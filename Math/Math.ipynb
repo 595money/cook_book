{
 "cells": [
  {
   "cell_type": "code",
   "execution_count": 1,
   "metadata": {},
   "outputs": [
    {
     "data": {
      "text/html": [
       "<style>.container { width:80% !important; }</style>"
      ],
      "text/plain": [
       "<IPython.core.display.HTML object>"
      ]
     },
     "metadata": {},
     "output_type": "display_data"
    }
   ],
   "source": [
    "import pandas as pd\n",
    "import numpy as np\n",
    "from jupyterthemes import jtplot\n",
    "from IPython.core.display import display, HTML\n",
    "\n",
    "display(HTML(\"<style>.container { width:80% !important; }</style>\"))\n",
    "jtplot.style()"
   ]
  },
  {
   "cell_type": "markdown",
   "metadata": {},
   "source": [
    "# Math"
   ]
  },
  {
   "cell_type": "markdown",
   "metadata": {},
   "source": [
    "## 名詞解釋\n",
    "純量 scalar  \n",
    "* Distance, speed, time, temperature, mass, length, area, volume, density, charge, pressure, energy,   \n",
    "  work and power are all scalars.\n",
    "* 不具方向性, 只有大小 ( magnitude / size ): 3.044, -7, 1$\\frac{1}{2}$\n",
    "* 通常使用細體: A, b  \n",
    "\n",
    "向量vactor \n",
    "* Displacement, velocity, acceleration, force and momentum are all vectors.\n",
    "* 具方向性、大小,\n",
    "* 通常使用粗體: **A**, **b**\n",
    "* $\\overrightarrow{AB}$"
   ]
  },
  {
   "cell_type": "markdown",
   "metadata": {},
   "source": [
    "## 常用符號解釋\n",
    "\n",
    "* $\\Delta$ Delta = 變化量 (增加/減少)\n",
    "\n",
    "[數學常用符號](https://zh.wikipedia.org/wiki/%E6%95%B0%E5%AD%A6%E7%AC%A6%E5%8F%B7%E8%A1%A8)"
   ]
  },
  {
   "cell_type": "markdown",
   "metadata": {},
   "source": [
    "### 指數 exponent\n",
    "---\n",
    "![](../source/math_01.png)\n",
    "* 2$^{5}$, $^{5}$就是指數, 1 $\\times$ 2 $\\times$ 2 $\\times$ 2 $\\times$ 2 $\\times$ 2 <br/>\n",
    "* n$^{0}$ = 1\n",
    "* n$^{1}$ = n\n",
    "* 2$^{5}$ + 2$^{4}$ = 2$^{9}$\n",
    "* (2$^{5}$)$^{4}$ = 2$^{20}$\n",
    "* 2$^{-5}$ = $\\frac{1}{2^{5}}$, 先轉化為分數再加上指數絕對值\n",
    "\n",
    "\n",
    "\n",
    "[np.exp()](https://docs.scipy.org/doc/numpy/reference/generated/numpy.exp.html)\n"
   ]
  },
  {
   "cell_type": "markdown",
   "metadata": {},
   "source": [
    "### 對數 Logarithm\n",
    "---\n",
    "* 以2$^{5}$為例, $^{5}$是指數  \n",
    "* 以2$^{5}$為例, $\\log _{2}$$^{32}$ = 5, $\\log _{2}$$^{32}$的5是對數、2是底數\n",
    "* $\\log _{A}$$^{C}$ = ${B}$, 意思是 \"${A}$ 為底數, ${C}$指數需要多少才能得到積為${B}$ ?\"  \n",
    "[np.log(),歐拉數e (2.71828)](https://docs.scipy.org/doc/numpy/reference/generated/numpy.log.html)  \n",
    "[np.1og2(), 以2為底數](https://docs.scipy.org/doc/numpy/reference/generated/numpy.log2.html)    \n",
    "[np.log10(), 以10為底數](https://docs.scipy.org/doc/numpy/reference/generated/numpy.log10.html#numpy.log10)  \n"
   ]
  },
  {
   "cell_type": "markdown",
   "metadata": {},
   "source": [
    "### 虛數 Imaginary\n",
    "---\n",
    "* i × i = −1\n",
    "* i = $\\sqrt{-1}$"
   ]
  },
  {
   "cell_type": "markdown",
   "metadata": {},
   "source": [
    "### 平方根 Sqrt\n",
    "---\n",
    "[np.sqrt()](https://docs.scipy.org/doc/numpy/reference/generated/numpy.sqrt.html)"
   ]
  },
  {
   "cell_type": "code",
   "execution_count": null,
   "metadata": {},
   "outputs": [],
   "source": [
    "high_var_array = np.array([1, 100, 200, 300, 4000, 5000])\n",
    "low_var_array = np.array([2, 4, 6, 8, 10])"
   ]
  },
  {
   "cell_type": "markdown",
   "metadata": {},
   "source": [
    "### 算術平均數 Arithmetic mean\n",
    "---\n",
    "[np.mean()](https://docs.scipy.org/doc/numpy/reference/generated/numpy.mean.html)"
   ]
  },
  {
   "cell_type": "code",
   "execution_count": 3,
   "metadata": {},
   "outputs": [
    {
     "data": {
      "text/plain": [
       "(1600.1666666666667, 6.0)"
      ]
     },
     "execution_count": 3,
     "metadata": {},
     "output_type": "execute_result"
    }
   ],
   "source": [
    "# Demo of std \n",
    "np.mean(high_var_array), np.mean(low_var_array)"
   ]
  },
  {
   "cell_type": "markdown",
   "metadata": {},
   "source": [
    "### 方差/變異數 Variance\n",
    "---\n",
    "[np.var()](https://docs.scipy.org/doc/numpy/reference/generated/numpy.var.html)  \n",
    "Variance = measure of the average degree to which each number is difference to mean  \n",
    "Higher variance = wider range of numbers  \n",
    "Lower variance = lower range of numbers  "
   ]
  },
  {
   "cell_type": "code",
   "execution_count": 4,
   "metadata": {},
   "outputs": [
    {
     "data": {
      "text/plain": [
       "(4296133.472222221, 8.0)"
      ]
     },
     "execution_count": 4,
     "metadata": {},
     "output_type": "execute_result"
    }
   ],
   "source": [
    "# Demo of var\n",
    "np.var(high_var_array), np.var(low_var_array)"
   ]
  },
  {
   "cell_type": "markdown",
   "metadata": {},
   "source": [
    "\n",
    "\n",
    "### 標準差Standard Deviation\n",
    "[np.std()](https://docs.scipy.org/doc/numpy/reference/generated/numpy.std.html)\n",
    "     \n",
    "---\n",
    "Strandard deviation = squareroot of variance  \n",
    "var = std ** 0.5  \n",
    "\n",
    "Standard deviation = a measure of how sparead out a group of numbers is from the mean"
   ]
  },
  {
   "cell_type": "code",
   "execution_count": 5,
   "metadata": {
    "scrolled": true
   },
   "outputs": [
    {
     "data": {
      "text/plain": [
       "(2072.711623024829, 2.8284271247461903)"
      ]
     },
     "execution_count": 5,
     "metadata": {},
     "output_type": "execute_result"
    }
   ],
   "source": [
    "# Demo of std \n",
    "np.std(high_var_array), np.std(low_var_array)"
   ]
  },
  {
   "cell_type": "markdown",
   "metadata": {},
   "source": [
    "### 內積 Dot Product"
   ]
  },
  {
   "cell_type": "markdown",
   "metadata": {},
   "source": [
    "### Element Wise"
   ]
  }
 ],
 "metadata": {
  "jupytext": {
   "encoding": "# -*- coding: utf-8 -*-",
   "formats": "ipynb,py:percent,md"
  },
  "kernelspec": {
   "display_name": "Python 3",
   "language": "python",
   "name": "python3"
  },
  "language_info": {
   "codemirror_mode": {
    "name": "ipython",
    "version": 3
   },
   "file_extension": ".py",
   "mimetype": "text/x-python",
   "name": "python",
   "nbconvert_exporter": "python",
   "pygments_lexer": "ipython3",
   "version": "3.8.2"
  }
 },
 "nbformat": 4,
 "nbformat_minor": 4
}
