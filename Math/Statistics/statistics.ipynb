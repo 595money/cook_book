{
 "cells": [
  {
   "cell_type": "markdown",
   "metadata": {},
   "source": [
    "# ${Statistics}$\n",
    "---\n"
   ]
  },
  {
   "cell_type": "markdown",
   "metadata": {},
   "source": [
    "#### ${Indicator function}$ 指標函數\n",
    "---\n",
    "$1_A{ X }:=\\begin{cases}1,X\\in A\\\\0,X\\notin A \\end{cases}$  \n",
    "${給定任意數字\\;X,\\;若\\;X\\;屬於\\;A\\;集合,\\;則會得到\\;1(存在),\\;否則得到\\;0(不存在)}$\n",
    "\n",
    "${Example1:}$\n",
    "${1_{[a,b)}(X)}$  \n",
    "${一指示函數，事件集合包含\\;a\\;不包含\\;b,\\;所以\\;X\\;是\\;a\\;則得到\\;1,\\;X\\;是\\;b\\;則得到\\;0}$\n",
    "![](../../source/indicator_1.png)\n",
    "${Example2:}$\n",
    "${1_{(a,b]}(X)}$  \n",
    "${一指示函數，事件集合不包含\\;a\\;包含\\;b,\\;所以\\;X\\;是\\;b\\;則得到\\;1,\\;X\\;是\\;a\\;則得到\\;0}$  \n",
    "![](../../source/indicator_2.png)\n",
    "\n",
    "[see also](https://ch-hsieh.blogspot.com/2012/07/indicator-function.html)"
   ]
  }
 ],
 "metadata": {
  "jupytext": {
   "formats": "ipynb,py:percent,md"
  },
  "kernelspec": {
   "display_name": "Python 3",
   "language": "python",
   "name": "python3"
  },
  "language_info": {
   "codemirror_mode": {
    "name": "ipython",
    "version": 3
   },
   "file_extension": ".py",
   "mimetype": "text/x-python",
   "name": "python",
   "nbconvert_exporter": "python",
   "pygments_lexer": "ipython3",
   "version": "3.8.2"
  }
 },
 "nbformat": 4,
 "nbformat_minor": 4
}
