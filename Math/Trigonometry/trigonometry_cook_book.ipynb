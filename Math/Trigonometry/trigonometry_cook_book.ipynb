{
 "cells": [
  {
   "cell_type": "code",
   "execution_count": 9,
   "metadata": {},
   "outputs": [
    {
     "data": {
      "text/html": [
       "<style>.container { width:80% !important; }</style>"
      ],
      "text/plain": [
       "<IPython.core.display.HTML object>"
      ]
     },
     "metadata": {},
     "output_type": "display_data"
    }
   ],
   "source": [
    "import pandas as pd\n",
    "import numpy as np\n",
    "from jupyterthemes import jtplot\n",
    "from IPython.core.display import display, HTML\n",
    "\n",
    "display(HTML(\"<style>.container { width:80% !important; }</style>\"))\n",
    "jtplot.style()"
   ]
  },
  {
   "cell_type": "markdown",
   "metadata": {},
   "source": [
    "### 三角學\n",
    "![](../../source/math_01_01.png)||\n",
    "--- | ---\n",
    "  \n",
    "* `opp` = 對邊 (opposite)<br/>\n",
    "* `hyp` = 斜邊 (hypotenuse)<br/>\n",
    "* `adj` = 臨邊 (adjacent)<br/>\n",
    "* `銳角` = $\\angle$0$^\\circ$ ~ $\\angle$90$^\\circ$<br/>   \n",
    "* $\\bigtriangleup$ABC與$\\bigtriangleup$DEF即使角度相同, 且已知$\\bigtriangleup$ABC部份邊長<br/> \n",
    "仍不能套用三角形函數來推算$\\bigtriangleup$DEF的邊長\n",
    "\n",
    "### 銳角三角形口訣: soh、cah、toa<br/> \n",
    "##### 三角函數 Trigonometric functions <br/>\n",
    "\n",
    "* 多用來求邊長<br/>\n",
    "* Parameters: 內角角度<br/>\n",
    "* Return: 比值, 內角與兩邊長(opp、adj、hyo擇二)的比值關係<br/>\n",
    "* Note: 回傳值(邊長比值)可與已知邊長推導出未知邊長<br/>\n",
    "\n",
    "`正弦`<br/>\n",
    "$\\sin$($\\angle$A) = $\\frac{opp}{hyp}$<br/>\n",
    "$\\sin$($\\angle$A) = $\\cos$($\\angle$B)<br/>\n",
    "`餘弦`<br/>\n",
    "$\\cos$($\\angle$A) = $\\frac{adj}{hyp}$<br/>\n",
    "$\\cos$($\\angle$A) = $\\sin$($\\angle$B)<br/> \n",
    "`正切`<br/> \n",
    "$\\tan$($\\angle$A) = $\\frac{opp}{adj}$<br/>\n",
    "\n",
    "##### 反三角函數 Inverse trigonometric functions<br/>\n",
    "\n",
    "* 多用來求角度<br/>\n",
    "* Parameters: 比值, 內角與兩邊長(opp、adj、hyo擇二)的比值<br/>\n",
    "* Return: 內角角度<br/>\n",
    "* Note: <br/>\n",
    "\n",
    "`正弦` <br/> \n",
    "$\\sin$$^{-1}$($\\angle$A) = $\\frac{opp}{hyp}$<br/> \n",
    "$\\angle$A = $\\sin$$^{-1}$($\\frac{opp}{hyp}$)<br/>\n",
    "$\\angle$A = $\\sin$$^{-1}$($\\frac{BC}{AB}$)<br/>\n",
    "\n",
    "`餘弦`<br/> \n",
    "$\\cos$$^{-1}$($\\angle$A) = $\\frac{adj}{hyp}$<br/> \n",
    "$\\angle$A = $\\cos$$^{-1}$($\\frac{adj}{hyp}$)<br/>\n",
    "$\\angle$A = $\\cos$$^{-1}$($\\frac{AC}{AB}$)<br/>\n",
    "`正切`<br/> \n",
    "$\\tan$$^{-1}$($\\angle$A) = $\\frac{opp}{adj}$<br/> \n",
    "$\\angle$A = $\\tan$$^{-1}$($\\frac{opp}{adj}$)<br/>\n",
    "$\\angle$A = $\\tan$$^{-1}$($\\frac{BC}{AC}$)<br/>\n",
    "\n",
    "##### 正弦定理<br/>\n",
    "![](../,,/source/math_01_04.png)||\n",
    "--- | ---  \n",
    "[正弦定理](https://zh.wikipedia.org/wiki/%E6%AD%A3%E5%BC%A6%E5%AE%9A%E7%90%86)  <br/>\n",
    "\n",
    "##### 餘弦定理<br/>\n",
    "* 當知道三角形的兩邊和一角時，餘弦定理可被用來計算第三邊的長，或是當知道三邊的長度時，可用來求出任何一個角。\n",
    "\n",
    "[餘弦定理](https://zh.wikipedia.org/wiki/%E9%A4%98%E5%BC%A6%E5%AE%9A%E7%90%86)  <br/>\n",
    "##### 直角三角形角度互補關係<br/>\n",
    "![](../../source/math_01_03.png)|![](../../source/math_01_02.png)\n",
    "--- | ---\n",
    "  \n"
   ]
  },
  {
   "cell_type": "markdown",
   "metadata": {},
   "source": [
    "#### 應用\n",
    "---"
   ]
  },
  {
   "cell_type": "markdown",
   "metadata": {},
   "source": [
    "* 三角形使用正弦定理求邊長  \n",
    "$\\bigtriangleup$ABC, $\\frac{\\sin\\angle{A}}{a}$ = $\\frac{\\sin\\angle{B}}{b}$ = $\\frac{\\sin\\angle{C}}{c}$\n",
    "* 三角形使用三角函數算角度"
   ]
  },
  {
   "cell_type": "code",
   "execution_count": 10,
   "metadata": {},
   "outputs": [
    {
     "data": {
      "text/plain": [
       "0.6435011087932844"
      ]
     },
     "execution_count": 10,
     "metadata": {},
     "output_type": "execute_result"
    }
   ],
   "source": [
    "opp = 3\n",
    "adj = 4\n",
    "hyp = 5\n",
    "# 有opp與hyp要計算角度\n",
    "np.arcsin(opp/hyp)\n",
    "\n",
    "# 有adj與hyp要計算角度\n",
    "np.arccos(adj/hyp)\n",
    "\n",
    "# 有opp與adj要計算角度\n",
    "np.arctan(opp/adj)"
   ]
  }
 ],
 "metadata": {
  "jupytext": {
   "encoding": "# -*- coding: utf-8 -*-",
   "formats": "ipynb,py:percent,md"
  },
  "kernelspec": {
   "display_name": "Python 3",
   "language": "python",
   "name": "python3"
  },
  "language_info": {
   "codemirror_mode": {
    "name": "ipython",
    "version": 3
   },
   "file_extension": ".py",
   "mimetype": "text/x-python",
   "name": "python",
   "nbconvert_exporter": "python",
   "pygments_lexer": "ipython3",
   "version": "3.8.2"
  }
 },
 "nbformat": 4,
 "nbformat_minor": 4
}
