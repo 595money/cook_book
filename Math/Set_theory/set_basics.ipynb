{
 "cells": [
  {
   "cell_type": "markdown",
   "metadata": {},
   "source": [
    "### 數的種類\n",
    "---\n",
    "$\\mathbb{N}$ = natural numbers (自然數)  \n",
    "$\\mathbb{Z}$ = set of integers (整數)  \n",
    "$\\mathbb{Q}$ = set of rational numbers (有理數)  \n",
    "$\\mathbb{A}$ = set of algebraic numbers (代數數)  \n",
    "$\\mathbb{R}$ = set of real numbers (實數)  "
   ]
  },
  {
   "cell_type": "markdown",
   "metadata": {},
   "source": [
    "### 集合建構符號\n",
    "---\n",
    "{種類 : 性質}  \n",
    "{${x}$$\\in$ ℕ | ${x}$ > 2} 或 {${x}$$\\in$ ℕ : ${x}$ > 2} \n",
    "\n"
   ]
  }
 ],
 "metadata": {
  "jupytext": {
   "formats": "ipynb,py:percent,md"
  },
  "kernelspec": {
   "display_name": "Python 3",
   "language": "python",
   "name": "python3"
  },
  "language_info": {
   "codemirror_mode": {
    "name": "ipython",
    "version": 3
   },
   "file_extension": ".py",
   "mimetype": "text/x-python",
   "name": "python",
   "nbconvert_exporter": "python",
   "pygments_lexer": "ipython3",
   "version": "3.8.2"
  }
 },
 "nbformat": 4,
 "nbformat_minor": 4
}
