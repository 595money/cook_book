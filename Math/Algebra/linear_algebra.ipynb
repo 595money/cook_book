{
 "cells": [
  {
   "cell_type": "code",
   "execution_count": 1,
   "metadata": {},
   "outputs": [
    {
     "data": {
      "text/html": [
       "<style>.container { width:80% !important; }</style>"
      ],
      "text/plain": [
       "<IPython.core.display.HTML object>"
      ]
     },
     "metadata": {},
     "output_type": "display_data"
    }
   ],
   "source": [
    "import pandas as pd\n",
    "import numpy as np\n",
    "from jupyterthemes import jtplot\n",
    "from IPython.core.display import display, HTML\n",
    "\n",
    "display(HTML(\"<style>.container { width:80% !important; }</style>\"))\n",
    "jtplot.style()"
   ]
  },
  {
   "cell_type": "markdown",
   "metadata": {},
   "source": [
    "# 線性代數\n",
    "---\n",
    "將n維世界轉換為m維世界\n",
    "* 矩陣\n",
    "* 向量\n",
    "* 線性映射\n",
    "* 固有值與固有向量"
   ]
  },
  {
   "cell_type": "markdown",
   "metadata": {},
   "source": [
    "### 基礎\n",
    "---\n",
    "* 數的種類\n",
    "  * 整數\n",
    "    * 正整數\n",
    "    * 負整數\n",
    "  * 有理數\n",
    "    * ${能以分數表示的數字}$\n",
    "  * 無理數\n",
    "    * ${不能以分數表示的數字}$\n",
    "  * 實數  \n",
    "    * ${整數、有理數、無理數}$  \n",
    "  \n",
    "  * 虛數\n",
    "    * ${i}$\n",
    "  * 複數\n",
    "    * ${a + bi}$\n",
    "    * ${實數+虛數的組合}$\n",
    "    * ${僅有實數或僅有虛數也算是複數}$\n",
    "* 邏輯\n",
    "  * 命題 Proposition\n",
    "     * ${僅有true 或 false 的描述}$\n",
    "  * 充分必要條件\n",
    "     * ${P\\Rightarrow Q}$  \n",
    "       * 若P則Q\n",
    "       * Q為P的必要條件\n",
    "       * P為Q的充分條件\n",
    "     \n",
    "     * ${P \\Leftrightarrow Q}$\n",
    "       * P、Q互為充分必要條件  \n",
    "       * 若P比Q高則Q比P矮  \n",
    "  * 集合 Set\n",
    "    * 集合表示法\n",
    "* 映射 \n",
    " * ${集合X的元素對應到集合Y的元素的規則, 稱為映射}$\n",
    " * ${f:X\\rightarrow Y}、X \\xrightarrow[\\text{}]{\\text{f}} Y$\n",
    " * 像 Image\n",
    "   * \n",
    "\n"
   ]
  },
  {
   "cell_type": "markdown",
   "metadata": {},
   "source": [
    "### 矩陣\n",
    "---\n"
   ]
  },
  {
   "cell_type": "markdown",
   "metadata": {},
   "source": [
    "### 向量\n",
    "---"
   ]
  },
  {
   "cell_type": "markdown",
   "metadata": {},
   "source": [
    "### 線性映射　(Linear map)\n",
    "---"
   ]
  },
  {
   "cell_type": "markdown",
   "metadata": {},
   "source": [
    "### 固有值與固有向量/特徵值特徵向量 （Eigenvalues and eigenvectors）\n",
    "---\n"
   ]
  },
  {
   "cell_type": "markdown",
   "metadata": {},
   "source": []
  }
 ],
 "metadata": {
  "jupytext": {
   "formats": "ipynb,py:percent,md"
  },
  "kernelspec": {
   "display_name": "Python 3",
   "language": "python",
   "name": "python3"
  },
  "language_info": {
   "codemirror_mode": {
    "name": "ipython",
    "version": 3
   },
   "file_extension": ".py",
   "mimetype": "text/x-python",
   "name": "python",
   "nbconvert_exporter": "python",
   "pygments_lexer": "ipython3",
   "version": "3.8.2"
  }
 },
 "nbformat": 4,
 "nbformat_minor": 4
}
