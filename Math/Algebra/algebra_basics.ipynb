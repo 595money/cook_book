{
 "cells": [
  {
   "cell_type": "code",
   "execution_count": 2,
   "metadata": {},
   "outputs": [
    {
     "data": {
      "text/html": [
       "<style>.container { width:80% !important; }</style>"
      ],
      "text/plain": [
       "<IPython.core.display.HTML object>"
      ]
     },
     "metadata": {},
     "output_type": "display_data"
    }
   ],
   "source": [
    "import pandas as pd\n",
    "import numpy as np\n",
    "from jupyterthemes import jtplot\n",
    "from IPython.core.display import display, HTML\n",
    "\n",
    "display(HTML(\"<style>.container { width:80% !important; }</style>\"))\n",
    "jtplot.style()"
   ]
  },
  {
   "cell_type": "markdown",
   "metadata": {},
   "source": [
    "## 代數基礎"
   ]
  },
  {
   "cell_type": "markdown",
   "metadata": {},
   "source": [
    "* inequalities (不等式)  \n",
    "${若c為 正數 且 a > b；則 ac > bc}$   \n",
    "${若c為 正數 且 a < b；則 ac < bc}$     \n",
    "${若c為 負數 且 a > b；則 ac < bc}$     \n",
    "${若c為 負數 且 a < b；則 ac > bc}$    \n",
    "${-2x > 20}\\Rightarrow{x < \\frac{20}{-2}}$    \n",
    "* linear equations (線性方程式/一次方程式)  \n",
    "所有解可以在座標圖上形成一直線  \n",
    "\n",
    "\n",
    "\n",
    "* intercepts (截距)  \n",
    "線性方程式於座標上畫出一直線.  \n",
    "該線段通過 ${x}$  軸處為 x-intercepts, 該點座標為${(n, 0)}$   \n",
    "該線段通過 ${y}$  軸處為 y-intercepts, 該點座標為${(0, n)}$    \n",
    "\n",
    "* slope (斜率)   \n",
    "  * ${y}$ 軸增加的量除以 ${x}$ 軸增加的量,  \n",
    "  * ${x}$ 軸每增加 1, ${y}$軸的變化量(增加或減少)\n",
    "  * slope = $\\frac{\\Delta{y}}{\\Delta{x}}$ \n",
    "* 兩點斜率\n",
    "  * ${a(x1,\\;y1),\\;b(x2,\\;y2)}$,  兩點互減方向正確就可, ${a-b} 或 {b-a}$都可\n",
    "  \n",
    "  * $\\frac{y1-y2}{x1-x2}$\n",
    "* slope-intercept equations (斜率截距方程式) \n",
    "![](../../source/algebra_basics_01.png)\n",
    "  * ${y = mx + b}$ \n",
    "  * ${m = slope,\\;x = b ,\\;y = 0}$\n",
    "\n",
    "* System of equations (線性方程組)\n",
    "\n",
    "\n",
    "\n",
    "\n",
    " One solution | Infinitely solutions | No solutions\n",
    "--- | --- | ---\n",
    "![](../../source/algebra_basics_02_1.png)|![](../../source/algebra_basics_02_2.png)|![](../../source/algebra_basics_02_3.png)\n",
    "當兩線性方程式有一點相交時, 有唯一解 | 當兩線性方程式完全重疊時, 有無限解 | 當兩線性方程式平行時, 無解\n",
    "  \n",
    "\n",
    "* functions 函數\n",
    "  * $y = f(x), f(x) = 2x + 4$ \n",
    "  * domain 參數值域\n",
    "  * range 回傳值範圍\n",
    "* inverse functions 反函數\n",
    "  * $y = f(x), f(x) = 2x + 4$ \n",
    "  * $f^{-1}(y)$\n",
    "\n",
    "* piecewise functions 分段函數\n",
    "![](../../source/algebra_basics_03.png)\n",
    "  * $f(x)=\\begin{cases}-9,\\;-9<x\\leq-5\\\\-6,\\;-5<x\\leq-1\\\\-7,\\;-1<x\\leq9\\end{cases}$\n",
    "* Sequance 序列  \n",
    "  * finite  ${\\{a_k\\}}_{k=1}^4 = \\{1,\\;4,\\;7,\\;10\\}$  \n",
    "    * ${\\{a_k\\}}_{k=1}^4\\; with\\; a_k = 1+3(k-1)$  \n",
    "    * ${\\{a_k\\}}_{k=1}^4\\; with\\; a_1 = 1,\\;a_k = a_{k-1} + 3$ \n",
    "    * ${有限序列 a,\\;}$\n",
    "  * infinite  ${\\{a_k\\}}_{k=1}^4 = \\{1,\\;4,\\;7,\\;10,\\cdots\\}$  \n",
    "    * ${\\{a_k\\}}_{k=1}^\\infty\\;  with\\; a_k = 1+3(k-1)$\n",
    "  * arithmetic sequence (等差數列)\n",
    "    * k = 序列 a(1), r = 序列變化量, n = 序列索引\n",
    "    * 公式:$\\begin{cases}a(1)=\\;k\\\\a(n)=\\;k\\;+\\;r\\;(n-1)\\end{cases}$\n",
    "    * $\\begin{cases}a(1)=\\;10\\\\a(n)= k\\times r\\;(n-1)\\end{cases}$\n",
    "    * $a(5)= 10\\times 10\\;(5-1)$  \n",
    "  * geometric sequence (等比數列)\n",
    "    * k = 序列 a(1), r = 序列變化量, n = 序列索引\n",
    "    * 公式:$\\begin{cases}a(1)=\\;k\\\\a(n)=\\;r\\;(n-1)\\end{cases}$\n",
    "    * 公式:$\\begin{cases}a(1)=\\;k\\\\a(n)=\\;k\\times r^{n-1}\\end{cases}$\n",
    "* 二次方程式分解策略\n",
    "![](../../source/Algebra_01_01.png)\n",
    "    * 排除共同因數  \n",
    "    * 和積模式  \n",
    "    * 分組方法  \n",
    "    * 方差"
   ]
  }
 ],
 "metadata": {
  "jupytext": {
   "encoding": "# -*- coding: utf-8 -*-",
   "formats": "ipynb,py:percent,md"
  },
  "kernelspec": {
   "display_name": "Python 3",
   "language": "python",
   "name": "python3"
  },
  "language_info": {
   "codemirror_mode": {
    "name": "ipython",
    "version": 3
   },
   "file_extension": ".py",
   "mimetype": "text/x-python",
   "name": "python",
   "nbconvert_exporter": "python",
   "pygments_lexer": "ipython3",
   "version": "3.8.2"
  }
 },
 "nbformat": 4,
 "nbformat_minor": 4
}
