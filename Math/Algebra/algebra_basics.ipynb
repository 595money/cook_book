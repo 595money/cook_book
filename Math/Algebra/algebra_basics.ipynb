{
 "cells": [
  {
   "cell_type": "code",
   "execution_count": 1,
   "metadata": {},
   "outputs": [
    {
     "data": {
      "text/html": [
       "<style>.container { width:80% !important; }</style>"
      ],
      "text/plain": [
       "<IPython.core.display.HTML object>"
      ]
     },
     "metadata": {},
     "output_type": "display_data"
    }
   ],
   "source": [
    "import pandas as pd\n",
    "import numpy as np\n",
    "from jupyterthemes import jtplot\n",
    "from IPython.core.display import display, HTML\n",
    "\n",
    "display(HTML(\"<style>.container { width:80% !important; }</style>\"))\n",
    "jtplot.style()"
   ]
  },
  {
   "cell_type": "markdown",
   "metadata": {},
   "source": [
    "## 代數基礎"
   ]
  },
  {
   "cell_type": "markdown",
   "metadata": {},
   "source": [
    "* inequalities (不等式)\n",
    "\n",
    "-2x > 20\n",
    "x < 20/ -2  \n",
    "箭頭方向會改變\n",
    "若${\\displaystyle c}$c為 正數 且 {\\displaystyle a>b}a > b；則 {\\displaystyle ac>bc}ac > bc。\n",
    "若{\\displaystyle c}c為 正數 且 {\\displaystyle a<b}a < b；則 {\\displaystyle ac<bc}ac < bc 。\n",
    "若{\\displaystyle c}c為 負數 且 {\\displaystyle a>b}a > b；則 {\\displaystyle ac<bc}ac < bc 。\n",
    "若{\\displaystyle c}c為 負數 且 {\\displaystyle a<b}a < b；則 {\\displaystyle ac>bc}ac > bc。\n"
   ]
  }
 ],
 "metadata": {
  "jupytext": {
   "formats": "ipynb,py:percent,md"
  },
  "kernelspec": {
   "display_name": "Python 3",
   "language": "python",
   "name": "python3"
  },
  "language_info": {
   "codemirror_mode": {
    "name": "ipython",
    "version": 3
   },
   "file_extension": ".py",
   "mimetype": "text/x-python",
   "name": "python",
   "nbconvert_exporter": "python",
   "pygments_lexer": "ipython3",
   "version": "3.8.2"
  }
 },
 "nbformat": 4,
 "nbformat_minor": 4
}
