{
 "cells": [
  {
   "cell_type": "code",
   "execution_count": 1,
   "metadata": {},
   "outputs": [
    {
     "data": {
      "text/html": [
       "<style>.container { width:80% !important; }</style>"
      ],
      "text/plain": [
       "<IPython.core.display.HTML object>"
      ]
     },
     "metadata": {},
     "output_type": "display_data"
    }
   ],
   "source": [
    "import pandas as pd\n",
    "import numpy as np\n",
    "from jupyterthemes import jtplot\n",
    "from IPython.core.display import display, HTML\n",
    "\n",
    "display(HTML(\"<style>.container { width:80% !important; }</style>\"))\n",
    "jtplot.style()"
   ]
  },
  {
   "cell_type": "markdown",
   "metadata": {},
   "source": [
    "## 代數基礎"
   ]
  },
  {
   "cell_type": "markdown",
   "metadata": {},
   "source": [
    "* inequalities (不等式)\n",
    "若c為 正數 且 a > b；則 ac > bc。   \n",
    "若c為 正數 且 a < b；則 ac < bc。  \n",
    "若c為 負數 且 a > b；則 ac < bc。  \n",
    "若c為 負數 且 a < b；則 ac > bc。  \n",
    "-2x > 20  \n",
    "x < $\\frac{20}{-2}$    \n",
    "* linear equations (線性方程式/一次方程式)  \n",
    "所有解可以在座標圖上形成一直線  \n",
    "\n",
    "\n",
    "\n",
    "* intercepts (截距)  \n",
    "線性方程式於座標上畫出一直線.  \n",
    "該線段通過 ${x}$ 軸處為 ${x}$-intercepts, 該點座標為(n, 0)  \n",
    "該線段通過 ${y}$ 軸處為 ${y}$-intercepts  該點座標為(0, n)  \n",
    "\n",
    "* slope (斜率)  \n",
    "  * slope = $\\frac{\\Delta{y}}{\\Delta{x}}$  \n",
    "  * ${y}$ 軸增加的量除以 ${x}$ 軸增加的量,  \n",
    "  * ${x}$ 軸每增加 1, ${y}$軸的變化量(增加或減少)\n",
    "\n",
    "* 兩點斜率\n",
    "  * ${a}$(${x}$1, ${y}$1),${b}$(${x}$2,${y}$2),  兩點互減方向正確就可,          <br/>${a}-{b} 或 {b}-{a}$都可\n",
    "  \n",
    "  * $\\frac{{y}1-{y}2}{{x}1-{x}2}$"
   ]
  }
 ],
 "metadata": {
  "jupytext": {
   "encoding": "# -*- coding: utf-8 -*-",
   "formats": "ipynb,py:percent,md"
  },
  "kernelspec": {
   "display_name": "Python 3",
   "language": "python",
   "name": "python3"
  },
  "language_info": {
   "codemirror_mode": {
    "name": "ipython",
    "version": 3
   },
   "file_extension": ".py",
   "mimetype": "text/x-python",
   "name": "python",
   "nbconvert_exporter": "python",
   "pygments_lexer": "ipython3",
   "version": "3.8.2"
  }
 },
 "nbformat": 4,
 "nbformat_minor": 4
}
