{
 "cells": [
  {
   "cell_type": "code",
   "execution_count": 378,
   "metadata": {},
   "outputs": [
    {
     "data": {
      "text/html": [
       "<style>.container { width:80% !important; }</style>"
      ],
      "text/plain": [
       "<IPython.core.display.HTML object>"
      ]
     },
     "metadata": {},
     "output_type": "display_data"
    }
   ],
   "source": [
    "import pandas as pd\n",
    "import numpy as np\n",
    "from jupyterthemes import jtplot\n",
    "from IPython.core.display import display, HTML\n",
    "\n",
    "display(HTML(\"<style>.container { width:80% !important; }</style>\"))\n",
    "jtplot.style()"
   ]
  },
  {
   "cell_type": "markdown",
   "metadata": {},
   "source": [
    "## DataTypes & Attributes"
   ]
  },
  {
   "cell_type": "code",
   "execution_count": 379,
   "metadata": {},
   "outputs": [
    {
     "data": {
      "text/plain": [
       "array([1, 2, 3])"
      ]
     },
     "execution_count": 379,
     "metadata": {},
     "output_type": "execute_result"
    }
   ],
   "source": [
    "# NumPy's main datatype is ndarray\n",
    "# n dimensional array\n",
    "# 所有的 Data 都會轉換為數字來進行機器學習, \n",
    "# 所以需要極為複雜的維度來組織 Data (數值)\n",
    "a1 = np.array([1, 2, 3])\n",
    "a1"
   ]
  },
  {
   "cell_type": "code",
   "execution_count": 380,
   "metadata": {},
   "outputs": [
    {
     "data": {
      "text/plain": [
       "numpy.ndarray"
      ]
     },
     "execution_count": 380,
     "metadata": {},
     "output_type": "execute_result"
    }
   ],
   "source": [
    "type(a1)"
   ]
  },
  {
   "cell_type": "code",
   "execution_count": 381,
   "metadata": {},
   "outputs": [],
   "source": [
    "a2 = np.array([[1, 2.0, 3.3], [4, 5, 6.5]])\n",
    "a3 = np.array([[[1, 2, 3],\n",
    "                [4, 5, 6],\n",
    "                [7, 8, 9]],\n",
    "               [[10, 11, 12],\n",
    "                [13, 14, 15],\n",
    "                [16, 17, 18]]])\n",
    "a4 = np.array([[[[2, 3],\n",
    "                 [2, 3],\n",
    "                 [2, 3]],\n",
    "                [[2, 3],\n",
    "                 [2, 3],\n",
    "                 [2, 3]],\n",
    "                [[2, 3],\n",
    "                 [2, 3],\n",
    "                 [2, 3]]],\n",
    "               [[[2, 3],\n",
    "                 [2, 3],\n",
    "                 [2, 3]],\n",
    "                [[2, 3],\n",
    "                 [2, 13],\n",
    "                 [2, 3]],\n",
    "                [[2, 3],\n",
    "                 [2, 3],\n",
    "                 [2, 3]]]]\n",
    "\n",
    "              )"
   ]
  },
  {
   "cell_type": "code",
   "execution_count": 382,
   "metadata": {},
   "outputs": [
    {
     "data": {
      "text/plain": [
       "array([[1. , 2. , 3.3],\n",
       "       [4. , 5. , 6.5]])"
      ]
     },
     "execution_count": 382,
     "metadata": {},
     "output_type": "execute_result"
    }
   ],
   "source": [
    "a2"
   ]
  },
  {
   "cell_type": "code",
   "execution_count": 383,
   "metadata": {},
   "outputs": [
    {
     "data": {
      "text/plain": [
       "(2, 3, 3)"
      ]
     },
     "execution_count": 383,
     "metadata": {},
     "output_type": "execute_result"
    }
   ],
   "source": [
    "a3.shape"
   ]
  },
  {
   "cell_type": "code",
   "execution_count": 384,
   "metadata": {},
   "outputs": [
    {
     "data": {
      "text/plain": [
       "(2, 3, 3, 2)"
      ]
     },
     "execution_count": 384,
     "metadata": {},
     "output_type": "execute_result"
    }
   ],
   "source": [
    "a4.shape"
   ]
  },
  {
   "cell_type": "code",
   "execution_count": 385,
   "metadata": {
    "scrolled": false
   },
   "outputs": [
    {
     "data": {
      "text/plain": [
       "(1, 2, 3, 4)"
      ]
     },
     "execution_count": 385,
     "metadata": {},
     "output_type": "execute_result"
    }
   ],
   "source": [
    "a1.ndim, a2.ndim, a3.ndim, a4.ndim"
   ]
  },
  {
   "cell_type": "code",
   "execution_count": 386,
   "metadata": {},
   "outputs": [
    {
     "data": {
      "text/plain": [
       "(3, 6, 18, 36)"
      ]
     },
     "execution_count": 386,
     "metadata": {},
     "output_type": "execute_result"
    }
   ],
   "source": [
    "a1.size, a2.size, a3.size, a4.size"
   ]
  },
  {
   "cell_type": "code",
   "execution_count": 387,
   "metadata": {},
   "outputs": [
    {
     "data": {
      "text/html": [
       "<div>\n",
       "<style scoped>\n",
       "    .dataframe tbody tr th:only-of-type {\n",
       "        vertical-align: middle;\n",
       "    }\n",
       "\n",
       "    .dataframe tbody tr th {\n",
       "        vertical-align: top;\n",
       "    }\n",
       "\n",
       "    .dataframe thead th {\n",
       "        text-align: right;\n",
       "    }\n",
       "</style>\n",
       "<table border=\"1\" class=\"dataframe\">\n",
       "  <thead>\n",
       "    <tr style=\"text-align: right;\">\n",
       "      <th></th>\n",
       "      <th>0</th>\n",
       "      <th>1</th>\n",
       "      <th>2</th>\n",
       "    </tr>\n",
       "  </thead>\n",
       "  <tbody>\n",
       "    <tr>\n",
       "      <th>0</th>\n",
       "      <td>1.0</td>\n",
       "      <td>2.0</td>\n",
       "      <td>3.3</td>\n",
       "    </tr>\n",
       "    <tr>\n",
       "      <th>1</th>\n",
       "      <td>4.0</td>\n",
       "      <td>5.0</td>\n",
       "      <td>6.5</td>\n",
       "    </tr>\n",
       "  </tbody>\n",
       "</table>\n",
       "</div>"
      ],
      "text/plain": [
       "     0    1    2\n",
       "0  1.0  2.0  3.3\n",
       "1  4.0  5.0  6.5"
      ]
     },
     "execution_count": 387,
     "metadata": {},
     "output_type": "execute_result"
    }
   ],
   "source": [
    "# Create a DataFrame from a NumPy array\n",
    "pd.DataFrame(a2)"
   ]
  },
  {
   "cell_type": "markdown",
   "metadata": {},
   "source": [
    "## 2. Creating Arrays"
   ]
  },
  {
   "cell_type": "code",
   "execution_count": 388,
   "metadata": {},
   "outputs": [
    {
     "data": {
      "text/plain": [
       "array([1, 2, 3])"
      ]
     },
     "execution_count": 388,
     "metadata": {},
     "output_type": "execute_result"
    }
   ],
   "source": [
    "sample_array = np.array([1, 2, 3])\n",
    "sample_array"
   ]
  },
  {
   "cell_type": "code",
   "execution_count": 389,
   "metadata": {
    "scrolled": true
   },
   "outputs": [
    {
     "data": {
      "text/plain": [
       "dtype('int32')"
      ]
     },
     "execution_count": 389,
     "metadata": {},
     "output_type": "execute_result"
    }
   ],
   "source": [
    "sample_array.dtype"
   ]
  },
  {
   "cell_type": "code",
   "execution_count": 390,
   "metadata": {},
   "outputs": [
    {
     "data": {
      "text/plain": [
       "array([[1., 1.]])"
      ]
     },
     "execution_count": 390,
     "metadata": {},
     "output_type": "execute_result"
    }
   ],
   "source": [
    "ones = np.ones([1, 2])\n",
    "ones"
   ]
  },
  {
   "cell_type": "code",
   "execution_count": 391,
   "metadata": {},
   "outputs": [
    {
     "data": {
      "text/plain": [
       "array([[0., 0.]])"
      ]
     },
     "execution_count": 391,
     "metadata": {},
     "output_type": "execute_result"
    }
   ],
   "source": [
    "zeros = np.zeros([1, 2])\n",
    "zeros"
   ]
  },
  {
   "cell_type": "code",
   "execution_count": 392,
   "metadata": {},
   "outputs": [
    {
     "data": {
      "text/plain": [
       "array([0, 2, 4, 6, 8])"
      ]
     },
     "execution_count": 392,
     "metadata": {},
     "output_type": "execute_result"
    }
   ],
   "source": [
    "range_array = np.arange(0, 10, 2)\n",
    "range_array"
   ]
  },
  {
   "cell_type": "code",
   "execution_count": 393,
   "metadata": {},
   "outputs": [
    {
     "data": {
      "text/plain": [
       "array([[[8, 9, 2],\n",
       "        [6, 9, 5],\n",
       "        [4, 1, 4]],\n",
       "\n",
       "       [[6, 1, 3],\n",
       "        [4, 9, 2],\n",
       "        [4, 4, 4]],\n",
       "\n",
       "       [[8, 1, 2],\n",
       "        [1, 5, 8],\n",
       "        [4, 3, 8]]])"
      ]
     },
     "execution_count": 393,
     "metadata": {},
     "output_type": "execute_result"
    }
   ],
   "source": [
    "random_array = np.random.randint(1, 10, size=(3, 3, 3))\n",
    "random_array"
   ]
  },
  {
   "cell_type": "code",
   "execution_count": 394,
   "metadata": {},
   "outputs": [
    {
     "data": {
      "text/plain": [
       "27"
      ]
     },
     "execution_count": 394,
     "metadata": {},
     "output_type": "execute_result"
    }
   ],
   "source": [
    "random_array.size"
   ]
  },
  {
   "cell_type": "code",
   "execution_count": 395,
   "metadata": {},
   "outputs": [
    {
     "data": {
      "text/plain": [
       "(3, 3, 3)"
      ]
     },
     "execution_count": 395,
     "metadata": {},
     "output_type": "execute_result"
    }
   ],
   "source": [
    "random_array.shape"
   ]
  },
  {
   "cell_type": "code",
   "execution_count": 396,
   "metadata": {},
   "outputs": [
    {
     "data": {
      "text/plain": [
       "array([[0.21655035, 0.13521817, 0.32414101],\n",
       "       [0.14967487, 0.22232139, 0.38648898],\n",
       "       [0.90259848, 0.44994999, 0.61306346],\n",
       "       [0.90234858, 0.09928035, 0.96980907],\n",
       "       [0.65314004, 0.17090959, 0.35815217]])"
      ]
     },
     "execution_count": 396,
     "metadata": {},
     "output_type": "execute_result"
    }
   ],
   "source": [
    "random_array2 = np.random.random((5, 3))\n",
    "random_array2"
   ]
  },
  {
   "cell_type": "code",
   "execution_count": 397,
   "metadata": {},
   "outputs": [
    {
     "data": {
      "text/plain": [
       "array([[0.75068614, 0.60783067, 0.32504723],\n",
       "       [0.03842543, 0.63427406, 0.95894927],\n",
       "       [0.65279032, 0.63505887, 0.99529957],\n",
       "       [0.58185033, 0.41436859, 0.4746975 ],\n",
       "       [0.6235101 , 0.33800761, 0.67475232]])"
      ]
     },
     "execution_count": 397,
     "metadata": {},
     "output_type": "execute_result"
    }
   ],
   "source": [
    "random_array_3 = np.random.rand(5, 3)\n",
    "random_array_3"
   ]
  },
  {
   "cell_type": "code",
   "execution_count": 398,
   "metadata": {},
   "outputs": [
    {
     "data": {
      "text/plain": [
       "array([[5, 8, 9],\n",
       "       [5, 0, 0],\n",
       "       [1, 7, 6],\n",
       "       [9, 2, 4],\n",
       "       [5, 2, 4]])"
      ]
     },
     "execution_count": 398,
     "metadata": {},
     "output_type": "execute_result"
    }
   ],
   "source": [
    "# Pseudo-random number\n",
    "# 隨機的只有種子編碼, 所以種子編碼固定後, 得到的亂數都會相同\n",
    "np.random.seed(1)\n",
    "random_array_4 = np.random.randint(10, size=(5, 3))\n",
    "random_array_4"
   ]
  },
  {
   "cell_type": "markdown",
   "metadata": {},
   "source": [
    "## 3. Viewing arrays and "
   ]
  },
  {
   "cell_type": "code",
   "execution_count": 399,
   "metadata": {},
   "outputs": [
    {
     "data": {
      "text/plain": [
       "array([0, 1, 2, 4, 5, 6, 7, 8, 9])"
      ]
     },
     "execution_count": 399,
     "metadata": {},
     "output_type": "execute_result"
    }
   ],
   "source": [
    "np.unique(random_array_4)"
   ]
  },
  {
   "cell_type": "code",
   "execution_count": 400,
   "metadata": {},
   "outputs": [
    {
     "data": {
      "text/plain": [
       "array([[[8, 9, 2],\n",
       "        [6, 9, 5],\n",
       "        [4, 1, 4]],\n",
       "\n",
       "       [[6, 1, 3],\n",
       "        [4, 9, 2],\n",
       "        [4, 4, 4]],\n",
       "\n",
       "       [[8, 1, 2],\n",
       "        [1, 5, 8],\n",
       "        [4, 3, 8]]])"
      ]
     },
     "execution_count": 400,
     "metadata": {},
     "output_type": "execute_result"
    }
   ],
   "source": [
    "random_array"
   ]
  },
  {
   "cell_type": "code",
   "execution_count": 401,
   "metadata": {},
   "outputs": [
    {
     "data": {
      "text/plain": [
       "array([[[8, 9],\n",
       "        [6, 9]],\n",
       "\n",
       "       [[6, 1],\n",
       "        [4, 9]]])"
      ]
     },
     "execution_count": 401,
     "metadata": {},
     "output_type": "execute_result"
    }
   ],
   "source": [
    "random_array[:2, :2, :2]"
   ]
  },
  {
   "cell_type": "code",
   "execution_count": 402,
   "metadata": {},
   "outputs": [
    {
     "data": {
      "text/plain": [
       "((2, 3, 4, 5), 4)"
      ]
     },
     "execution_count": 402,
     "metadata": {},
     "output_type": "execute_result"
    }
   ],
   "source": [
    "a5 = np.random.randint(10, size=(2, 3, 4, 5))\n",
    "a5.shape, a5.ndim"
   ]
  },
  {
   "cell_type": "code",
   "execution_count": 403,
   "metadata": {},
   "outputs": [
    {
     "data": {
      "text/plain": [
       "array([[[[2, 4, 7, 7, 9],\n",
       "         [1, 7, 0, 6, 9],\n",
       "         [9, 7, 6, 9, 1],\n",
       "         [0, 1, 8, 8, 3]],\n",
       "\n",
       "        [[9, 8, 7, 3, 6],\n",
       "         [5, 1, 9, 3, 4],\n",
       "         [8, 1, 4, 0, 3],\n",
       "         [9, 2, 0, 4, 9]],\n",
       "\n",
       "        [[2, 7, 7, 9, 8],\n",
       "         [6, 9, 3, 7, 7],\n",
       "         [4, 5, 9, 3, 6],\n",
       "         [8, 0, 2, 7, 7]]],\n",
       "\n",
       "\n",
       "       [[[9, 7, 3, 0, 8],\n",
       "         [7, 7, 1, 1, 3],\n",
       "         [0, 8, 6, 4, 5],\n",
       "         [6, 2, 5, 7, 8]],\n",
       "\n",
       "        [[4, 4, 7, 7, 4],\n",
       "         [9, 0, 2, 0, 7],\n",
       "         [1, 7, 9, 8, 4],\n",
       "         [0, 1, 9, 8, 2]],\n",
       "\n",
       "        [[3, 1, 2, 7, 2],\n",
       "         [6, 0, 9, 2, 6],\n",
       "         [6, 2, 7, 7, 0],\n",
       "         [6, 5, 1, 4, 6]]]])"
      ]
     },
     "execution_count": 403,
     "metadata": {},
     "output_type": "execute_result"
    }
   ],
   "source": [
    "# Get the first 4 numbers of the inner most arrays\n",
    "a5"
   ]
  },
  {
   "cell_type": "code",
   "execution_count": 404,
   "metadata": {},
   "outputs": [
    {
     "data": {
      "text/plain": [
       "array([[[[2, 4, 7, 7],\n",
       "         [1, 7, 0, 6],\n",
       "         [9, 7, 6, 9]],\n",
       "\n",
       "        [[9, 8, 7, 3],\n",
       "         [5, 1, 9, 3],\n",
       "         [8, 1, 4, 0]]]])"
      ]
     },
     "execution_count": 404,
     "metadata": {},
     "output_type": "execute_result"
    }
   ],
   "source": [
    "a5[:1, :2, :3, :4]"
   ]
  },
  {
   "cell_type": "markdown",
   "metadata": {},
   "source": [
    "## 4. Manipulating & comparing arrays"
   ]
  },
  {
   "cell_type": "markdown",
   "metadata": {},
   "source": [
    "### Arithmetic"
   ]
  },
  {
   "cell_type": "code",
   "execution_count": 405,
   "metadata": {
    "scrolled": true
   },
   "outputs": [
    {
     "data": {
      "text/plain": [
       "array([1, 2, 3])"
      ]
     },
     "execution_count": 405,
     "metadata": {},
     "output_type": "execute_result"
    }
   ],
   "source": [
    "a1"
   ]
  },
  {
   "cell_type": "code",
   "execution_count": 406,
   "metadata": {},
   "outputs": [
    {
     "data": {
      "text/plain": [
       "array([1., 1., 1.])"
      ]
     },
     "execution_count": 406,
     "metadata": {},
     "output_type": "execute_result"
    }
   ],
   "source": [
    "ones = np.ones(3)\n",
    "ones"
   ]
  },
  {
   "cell_type": "code",
   "execution_count": 407,
   "metadata": {},
   "outputs": [
    {
     "data": {
      "text/plain": [
       "array([2., 3., 4.])"
      ]
     },
     "execution_count": 407,
     "metadata": {},
     "output_type": "execute_result"
    }
   ],
   "source": [
    "a1 + ones"
   ]
  },
  {
   "cell_type": "code",
   "execution_count": 408,
   "metadata": {
    "scrolled": true
   },
   "outputs": [
    {
     "data": {
      "text/plain": [
       "array([[1. , 2. , 3.3],\n",
       "       [4. , 5. , 6.5]])"
      ]
     },
     "execution_count": 408,
     "metadata": {},
     "output_type": "execute_result"
    }
   ],
   "source": [
    "a2"
   ]
  },
  {
   "cell_type": "code",
   "execution_count": 409,
   "metadata": {},
   "outputs": [
    {
     "data": {
      "text/plain": [
       "array([[[ 1,  2,  3],\n",
       "        [ 4,  5,  6],\n",
       "        [ 7,  8,  9]],\n",
       "\n",
       "       [[10, 11, 12],\n",
       "        [13, 14, 15],\n",
       "        [16, 17, 18]]])"
      ]
     },
     "execution_count": 409,
     "metadata": {},
     "output_type": "execute_result"
    }
   ],
   "source": [
    "a3"
   ]
  },
  {
   "cell_type": "code",
   "execution_count": 410,
   "metadata": {},
   "outputs": [
    {
     "data": {
      "text/plain": [
       "array([[[ 1],\n",
       "        [ 4]],\n",
       "\n",
       "       [[10],\n",
       "        [13]]])"
      ]
     },
     "execution_count": 410,
     "metadata": {},
     "output_type": "execute_result"
    }
   ],
   "source": [
    "# 同一維度必須相等或其中一方為1\n",
    "a3[:, :2, :1]"
   ]
  },
  {
   "cell_type": "code",
   "execution_count": 411,
   "metadata": {},
   "outputs": [
    {
     "data": {
      "text/plain": [
       "array([[[ 1,  2,  3],\n",
       "        [ 4,  5,  6],\n",
       "        [ 7,  8,  9]],\n",
       "\n",
       "       [[10, 11, 12],\n",
       "        [13, 14, 15],\n",
       "        [16, 17, 18]]])"
      ]
     },
     "execution_count": 411,
     "metadata": {},
     "output_type": "execute_result"
    }
   ],
   "source": [
    "a3.reshape(3, 2, 3)\n",
    "a3"
   ]
  },
  {
   "cell_type": "code",
   "execution_count": 412,
   "metadata": {},
   "outputs": [
    {
     "data": {
      "text/plain": [
       "array([1., 2., 3.])"
      ]
     },
     "execution_count": 412,
     "metadata": {},
     "output_type": "execute_result"
    }
   ],
   "source": [
    "a1 / ones"
   ]
  },
  {
   "cell_type": "code",
   "execution_count": 413,
   "metadata": {},
   "outputs": [
    {
     "data": {
      "text/plain": [
       "array([[1.        , 1.        , 1.1       ],\n",
       "       [4.        , 2.5       , 2.16666667]])"
      ]
     },
     "execution_count": 413,
     "metadata": {},
     "output_type": "execute_result"
    }
   ],
   "source": [
    "# Floor division removes the decimals (rounds down)\n",
    "a2 / a1"
   ]
  },
  {
   "cell_type": "code",
   "execution_count": 414,
   "metadata": {},
   "outputs": [
    {
     "data": {
      "text/plain": [
       "array([[1., 1., 1.],\n",
       "       [4., 2., 2.]])"
      ]
     },
     "execution_count": 414,
     "metadata": {},
     "output_type": "execute_result"
    }
   ],
   "source": [
    "a2 // a1"
   ]
  },
  {
   "cell_type": "code",
   "execution_count": 415,
   "metadata": {
    "scrolled": true
   },
   "outputs": [
    {
     "data": {
      "text/plain": [
       "array([[ 1.  ,  4.  , 10.89],\n",
       "       [16.  , 25.  , 42.25]])"
      ]
     },
     "execution_count": 415,
     "metadata": {},
     "output_type": "execute_result"
    }
   ],
   "source": [
    "a2 ** 2"
   ]
  },
  {
   "cell_type": "code",
   "execution_count": 416,
   "metadata": {
    "scrolled": true
   },
   "outputs": [
    {
     "data": {
      "text/plain": [
       "array([[ 1.  ,  4.  , 10.89],\n",
       "       [16.  , 25.  , 42.25]])"
      ]
     },
     "execution_count": 416,
     "metadata": {},
     "output_type": "execute_result"
    }
   ],
   "source": [
    "np.square(a2)"
   ]
  },
  {
   "cell_type": "code",
   "execution_count": 417,
   "metadata": {
    "scrolled": true
   },
   "outputs": [
    {
     "data": {
      "text/plain": [
       "array([2., 3., 4.])"
      ]
     },
     "execution_count": 417,
     "metadata": {},
     "output_type": "execute_result"
    }
   ],
   "source": [
    "a1 + ones"
   ]
  },
  {
   "cell_type": "code",
   "execution_count": 418,
   "metadata": {},
   "outputs": [
    {
     "data": {
      "text/plain": [
       "array([2., 3., 4.])"
      ]
     },
     "execution_count": 418,
     "metadata": {},
     "output_type": "execute_result"
    }
   ],
   "source": [
    "np.add(a1, ones)"
   ]
  },
  {
   "cell_type": "code",
   "execution_count": 419,
   "metadata": {},
   "outputs": [
    {
     "data": {
      "text/plain": [
       "array([[1. , 2. , 3.3],\n",
       "       [4. , 5. , 6.5]])"
      ]
     },
     "execution_count": 419,
     "metadata": {},
     "output_type": "execute_result"
    }
   ],
   "source": [
    "a2"
   ]
  },
  {
   "cell_type": "code",
   "execution_count": 420,
   "metadata": {},
   "outputs": [
    {
     "data": {
      "text/plain": [
       "array([[1. , 0. , 1.3],\n",
       "       [0. , 1. , 0.5]])"
      ]
     },
     "execution_count": 420,
     "metadata": {},
     "output_type": "execute_result"
    }
   ],
   "source": [
    "a2 % 2"
   ]
  },
  {
   "cell_type": "code",
   "execution_count": 421,
   "metadata": {},
   "outputs": [
    {
     "data": {
      "text/plain": [
       "array([0.        , 0.69314718, 1.09861229])"
      ]
     },
     "execution_count": 421,
     "metadata": {},
     "output_type": "execute_result"
    }
   ],
   "source": [
    "np.log(a1)"
   ]
  },
  {
   "cell_type": "markdown",
   "metadata": {},
   "source": [
    "## Aggregation\n",
    "Aggregation = performing the same operation on a number of things"
   ]
  },
  {
   "cell_type": "code",
   "execution_count": 422,
   "metadata": {
    "scrolled": true
   },
   "outputs": [
    {
     "data": {
      "text/plain": [
       "list"
      ]
     },
     "execution_count": 422,
     "metadata": {},
     "output_type": "execute_result"
    }
   ],
   "source": [
    "listy_list = [1, 2, 3]\n",
    "type(listy_list)"
   ]
  },
  {
   "cell_type": "code",
   "execution_count": 423,
   "metadata": {
    "scrolled": false
   },
   "outputs": [
    {
     "data": {
      "text/plain": [
       "6"
      ]
     },
     "execution_count": 423,
     "metadata": {},
     "output_type": "execute_result"
    }
   ],
   "source": [
    "sum(listy_list)"
   ]
  },
  {
   "cell_type": "code",
   "execution_count": 424,
   "metadata": {},
   "outputs": [
    {
     "data": {
      "text/plain": [
       "array([1, 2, 3])"
      ]
     },
     "execution_count": 424,
     "metadata": {},
     "output_type": "execute_result"
    }
   ],
   "source": [
    "a1"
   ]
  },
  {
   "cell_type": "code",
   "execution_count": 425,
   "metadata": {},
   "outputs": [
    {
     "data": {
      "text/plain": [
       "numpy.ndarray"
      ]
     },
     "execution_count": 425,
     "metadata": {},
     "output_type": "execute_result"
    }
   ],
   "source": [
    "type(a1)"
   ]
  },
  {
   "cell_type": "code",
   "execution_count": 426,
   "metadata": {
    "scrolled": true
   },
   "outputs": [
    {
     "data": {
      "text/plain": [
       "6"
      ]
     },
     "execution_count": 426,
     "metadata": {},
     "output_type": "execute_result"
    }
   ],
   "source": [
    "np.sum(a1)"
   ]
  },
  {
   "cell_type": "markdown",
   "metadata": {},
   "source": [
    "User Python's method( `sum()` ) on Python datatypes and use NumPy's methods on NumPy arrays( `np.sum()` )"
   ]
  },
  {
   "cell_type": "code",
   "execution_count": 427,
   "metadata": {},
   "outputs": [
    {
     "data": {
      "text/plain": [
       "array([0.5270581 , 0.8859421 , 0.35726976, 0.90853515, 0.62336012,\n",
       "       0.01582124, 0.92943723, 0.69089692, 0.99732285, 0.17234051])"
      ]
     },
     "execution_count": 427,
     "metadata": {},
     "output_type": "execute_result"
    }
   ],
   "source": [
    "# Creative a massive NumPy array\n",
    "massive_array = np.random.random(100000)\n",
    "massive_array.size\n",
    "massive_array[:10]"
   ]
  },
  {
   "cell_type": "code",
   "execution_count": 428,
   "metadata": {},
   "outputs": [
    {
     "name": "stdout",
     "output_type": "stream",
     "text": [
      "15.4 ms ± 315 µs per loop (mean ± std. dev. of 7 runs, 100 loops each)\n",
      "42.8 µs ± 481 ns per loop (mean ± std. dev. of 7 runs, 10000 loops each)\n"
     ]
    }
   ],
   "source": [
    "%timeit sum(massive_array) # Python's sum() \n",
    "%timeit np.sum(massive_array) # NumPy's sum()"
   ]
  },
  {
   "cell_type": "code",
   "execution_count": 429,
   "metadata": {
    "scrolled": true
   },
   "outputs": [
    {
     "data": {
      "text/plain": [
       "array([[1. , 2. , 3.3],\n",
       "       [4. , 5. , 6.5]])"
      ]
     },
     "execution_count": 429,
     "metadata": {},
     "output_type": "execute_result"
    }
   ],
   "source": [
    "a2"
   ]
  },
  {
   "cell_type": "code",
   "execution_count": 430,
   "metadata": {
    "scrolled": true
   },
   "outputs": [
    {
     "data": {
      "text/plain": [
       "3.6333333333333333"
      ]
     },
     "execution_count": 430,
     "metadata": {},
     "output_type": "execute_result"
    }
   ],
   "source": [
    "np.mean(a2)"
   ]
  },
  {
   "cell_type": "code",
   "execution_count": 431,
   "metadata": {
    "scrolled": true
   },
   "outputs": [
    {
     "data": {
      "text/plain": [
       "(6.5, 1.0, 1.8226964152656422)"
      ]
     },
     "execution_count": 431,
     "metadata": {},
     "output_type": "execute_result"
    }
   ],
   "source": [
    "np.max(a2) ,np.min(a2), np.std(a2)"
   ]
  },
  {
   "cell_type": "markdown",
   "metadata": {},
   "source": [
    "## Reshaping & transposing"
   ]
  },
  {
   "cell_type": "code",
   "execution_count": 432,
   "metadata": {
    "scrolled": true
   },
   "outputs": [
    {
     "data": {
      "text/plain": [
       "array([[1. , 2. , 3.3],\n",
       "       [4. , 5. , 6.5]])"
      ]
     },
     "execution_count": 432,
     "metadata": {},
     "output_type": "execute_result"
    }
   ],
   "source": [
    "a2"
   ]
  },
  {
   "cell_type": "code",
   "execution_count": 433,
   "metadata": {
    "scrolled": true
   },
   "outputs": [
    {
     "data": {
      "text/plain": [
       "(2, 3)"
      ]
     },
     "execution_count": 433,
     "metadata": {},
     "output_type": "execute_result"
    }
   ],
   "source": [
    "a2.shape"
   ]
  },
  {
   "cell_type": "code",
   "execution_count": 434,
   "metadata": {},
   "outputs": [
    {
     "data": {
      "text/plain": [
       "array([[[1. ],\n",
       "        [2. ],\n",
       "        [3.3]],\n",
       "\n",
       "       [[4. ],\n",
       "        [5. ],\n",
       "        [6.5]]])"
      ]
     },
     "execution_count": 434,
     "metadata": {},
     "output_type": "execute_result"
    }
   ],
   "source": [
    "a2.reshape(2, 3, 1)"
   ]
  },
  {
   "cell_type": "code",
   "execution_count": 435,
   "metadata": {
    "scrolled": true
   },
   "outputs": [
    {
     "data": {
      "text/plain": [
       "(2, 3)"
      ]
     },
     "execution_count": 435,
     "metadata": {},
     "output_type": "execute_result"
    }
   ],
   "source": [
    "a2.shape"
   ]
  },
  {
   "cell_type": "code",
   "execution_count": 436,
   "metadata": {
    "scrolled": true
   },
   "outputs": [
    {
     "data": {
      "text/plain": [
       "(3, 2)"
      ]
     },
     "execution_count": 436,
     "metadata": {},
     "output_type": "execute_result"
    }
   ],
   "source": [
    "a2.T.shape"
   ]
  },
  {
   "cell_type": "markdown",
   "metadata": {},
   "source": [
    "![](./source/dot_product_element_wise.png)\n",
    "![](./source/dot_product_element_wise_2.png)\n",
    "\n",
    "## Element-wise multiplication (Hadamard product)\n",
    "* follow broadcast rule, size必須完全相等, 或其中一方為1  \n",
    "\n",
    " \n",
    "arrayA | arrayB | math | describe\n",
    "--- | --- | --- | ---\n",
    "size(1, 2, 3)|size(1, 2, 3)| O | size 相等\n",
    "size(1, 2, 3)|size(3, 2, 3)| X | size 不全等\n",
    "size(1, 2, 9)|size(9, 1, 1)| O | size 不相等但該維度其中為1\n",
    "size(3, 6, 2)|size(3, 6)| X | 維度不對 (維度數由右而左升冪)\n",
    "size(3, 6, 2)|size(6, 2)| O | "
   ]
  },
  {
   "cell_type": "code",
   "execution_count": 437,
   "metadata": {},
   "outputs": [
    {
     "data": {
      "text/plain": [
       "array([[[48],\n",
       "        [ 9],\n",
       "        [42],\n",
       "        [ 8],\n",
       "        [ 7],\n",
       "        [ 4]],\n",
       "\n",
       "       [[64],\n",
       "        [ 7],\n",
       "        [21],\n",
       "        [40],\n",
       "        [42],\n",
       "        [ 6]],\n",
       "\n",
       "       [[40],\n",
       "        [ 3],\n",
       "        [35],\n",
       "        [64],\n",
       "        [56],\n",
       "        [ 4]]])"
      ]
     },
     "execution_count": 437,
     "metadata": {},
     "output_type": "execute_result"
    }
   ],
   "source": [
    "np.random.seed(1)\n",
    "e_array_1 = np.random.randint(1, 10, size=(3, 6, 1))\n",
    "e_array_2 = np.random.randint(1, 10, size=(6, 1))\n",
    "e_array_1 * e_array_2"
   ]
  },
  {
   "cell_type": "markdown",
   "metadata": {},
   "source": [
    "## Dot product\n",
    "* \n",
    "* 兩元素的\n"
   ]
  },
  {
   "cell_type": "code",
   "execution_count": 438,
   "metadata": {
    "scrolled": true
   },
   "outputs": [
    {
     "data": {
      "text/plain": [
       "array([[93, 96, 45],\n",
       "       [53, 48, 21],\n",
       "       [18, 19,  9]])"
      ]
     },
     "execution_count": 438,
     "metadata": {},
     "output_type": "execute_result"
    }
   ],
   "source": [
    "np.random.seed(1)\n",
    "dot_1 = np.random.randint(1, 10, size=(3, 2))\n",
    "dot_2 = np.random.randint(1, 10, size=(2, 3))\n",
    "np.dot(dot_1, dot_2)"
   ]
  },
  {
   "cell_type": "markdown",
   "metadata": {},
   "source": [
    "## Dot product exmaple (nut butter sales)"
   ]
  },
  {
   "cell_type": "code",
   "execution_count": 439,
   "metadata": {},
   "outputs": [
    {
     "data": {
      "text/plain": [
       "array([[12, 15,  0],\n",
       "       [ 3,  3,  7],\n",
       "       [ 9, 19, 18],\n",
       "       [ 4,  6, 12],\n",
       "       [ 1,  6,  7]])"
      ]
     },
     "execution_count": 439,
     "metadata": {},
     "output_type": "execute_result"
    }
   ],
   "source": [
    "np.random.seed(0)\n",
    "# Number of jars sold\n",
    "sales_amounts = np.random.randint(20, size=(5, 3))\n",
    "sales_amounts"
   ]
  },
  {
   "cell_type": "code",
   "execution_count": 440,
   "metadata": {},
   "outputs": [
    {
     "data": {
      "text/html": [
       "<div>\n",
       "<style scoped>\n",
       "    .dataframe tbody tr th:only-of-type {\n",
       "        vertical-align: middle;\n",
       "    }\n",
       "\n",
       "    .dataframe tbody tr th {\n",
       "        vertical-align: top;\n",
       "    }\n",
       "\n",
       "    .dataframe thead th {\n",
       "        text-align: right;\n",
       "    }\n",
       "</style>\n",
       "<table border=\"1\" class=\"dataframe\">\n",
       "  <thead>\n",
       "    <tr style=\"text-align: right;\">\n",
       "      <th></th>\n",
       "      <th>Almond butter</th>\n",
       "      <th>Peanut butter</th>\n",
       "      <th>Cashew butter</th>\n",
       "    </tr>\n",
       "  </thead>\n",
       "  <tbody>\n",
       "    <tr>\n",
       "      <th>Mon</th>\n",
       "      <td>12</td>\n",
       "      <td>15</td>\n",
       "      <td>0</td>\n",
       "    </tr>\n",
       "    <tr>\n",
       "      <th>Tues</th>\n",
       "      <td>3</td>\n",
       "      <td>3</td>\n",
       "      <td>7</td>\n",
       "    </tr>\n",
       "    <tr>\n",
       "      <th>Wed</th>\n",
       "      <td>9</td>\n",
       "      <td>19</td>\n",
       "      <td>18</td>\n",
       "    </tr>\n",
       "    <tr>\n",
       "      <th>Thurs</th>\n",
       "      <td>4</td>\n",
       "      <td>6</td>\n",
       "      <td>12</td>\n",
       "    </tr>\n",
       "    <tr>\n",
       "      <th>Fri</th>\n",
       "      <td>1</td>\n",
       "      <td>6</td>\n",
       "      <td>7</td>\n",
       "    </tr>\n",
       "  </tbody>\n",
       "</table>\n",
       "</div>"
      ],
      "text/plain": [
       "       Almond butter  Peanut butter  Cashew butter\n",
       "Mon               12             15              0\n",
       "Tues               3              3              7\n",
       "Wed                9             19             18\n",
       "Thurs              4              6             12\n",
       "Fri                1              6              7"
      ]
     },
     "execution_count": 440,
     "metadata": {},
     "output_type": "execute_result"
    }
   ],
   "source": [
    "weekly_sales = pd.DataFrame(sales_amounts,\n",
    "              index=['Mon', 'Tues', 'Wed', 'Thurs', 'Fri'],\n",
    "              columns=['Almond butter', 'Peanut butter', 'Cashew butter'])\n",
    "weekly_sales"
   ]
  },
  {
   "cell_type": "code",
   "execution_count": 441,
   "metadata": {},
   "outputs": [
    {
     "data": {
      "text/plain": [
       "array([10,  8, 12])"
      ]
     },
     "execution_count": 441,
     "metadata": {},
     "output_type": "execute_result"
    }
   ],
   "source": [
    "# Create prices array\n",
    "prices = np.array([10, 8, 12])\n",
    "prices"
   ]
  },
  {
   "cell_type": "code",
   "execution_count": 442,
   "metadata": {},
   "outputs": [
    {
     "data": {
      "text/html": [
       "<div>\n",
       "<style scoped>\n",
       "    .dataframe tbody tr th:only-of-type {\n",
       "        vertical-align: middle;\n",
       "    }\n",
       "\n",
       "    .dataframe tbody tr th {\n",
       "        vertical-align: top;\n",
       "    }\n",
       "\n",
       "    .dataframe thead th {\n",
       "        text-align: right;\n",
       "    }\n",
       "</style>\n",
       "<table border=\"1\" class=\"dataframe\">\n",
       "  <thead>\n",
       "    <tr style=\"text-align: right;\">\n",
       "      <th></th>\n",
       "      <th>Almond butter</th>\n",
       "      <th>Peanut butter</th>\n",
       "      <th>Cashew butter</th>\n",
       "    </tr>\n",
       "  </thead>\n",
       "  <tbody>\n",
       "    <tr>\n",
       "      <th>Price</th>\n",
       "      <td>10</td>\n",
       "      <td>8</td>\n",
       "      <td>12</td>\n",
       "    </tr>\n",
       "  </tbody>\n",
       "</table>\n",
       "</div>"
      ],
      "text/plain": [
       "       Almond butter  Peanut butter  Cashew butter\n",
       "Price             10              8             12"
      ]
     },
     "execution_count": 442,
     "metadata": {},
     "output_type": "execute_result"
    }
   ],
   "source": [
    "# Create butter_price DataFrame\n",
    "# 陣列轉換為pd.DataFrame時, 若為一維陣列須明確轉換形狀(reshape)為 1 row n column\n",
    "butter_prices = pd.DataFrame(prices.reshape(1, 3),\n",
    "                           index=['Price'],\n",
    "                           columns=['Almond butter', 'Peanut butter', 'Cashew butter'])\n",
    "butter_prices"
   ]
  },
  {
   "cell_type": "code",
   "execution_count": 443,
   "metadata": {},
   "outputs": [
    {
     "data": {
      "text/plain": [
       "array([240, 138, 458, 232, 142])"
      ]
     },
     "execution_count": 443,
     "metadata": {},
     "output_type": "execute_result"
    }
   ],
   "source": [
    "# Shaoe aren't aligned, let's transpose\n",
    "total_sales = prices.dot(sales_amounts.T)\n",
    "total_sales"
   ]
  },
  {
   "cell_type": "code",
   "execution_count": 445,
   "metadata": {},
   "outputs": [
    {
     "data": {
      "text/plain": [
       "array([[12,  3,  9,  4,  1],\n",
       "       [15,  3, 19,  6,  6],\n",
       "       [ 0,  7, 18, 12,  7]])"
      ]
     },
     "execution_count": 445,
     "metadata": {},
     "output_type": "execute_result"
    }
   ],
   "source": [
    "sales_amounts_T = sales_amounts.T\n",
    "sales_amounts_T"
   ]
  },
  {
   "cell_type": "code",
   "execution_count": 446,
   "metadata": {},
   "outputs": [
    {
     "data": {
      "text/html": [
       "<div>\n",
       "<style scoped>\n",
       "    .dataframe tbody tr th:only-of-type {\n",
       "        vertical-align: middle;\n",
       "    }\n",
       "\n",
       "    .dataframe tbody tr th {\n",
       "        vertical-align: top;\n",
       "    }\n",
       "\n",
       "    .dataframe thead th {\n",
       "        text-align: right;\n",
       "    }\n",
       "</style>\n",
       "<table border=\"1\" class=\"dataframe\">\n",
       "  <thead>\n",
       "    <tr style=\"text-align: right;\">\n",
       "      <th></th>\n",
       "      <th>Almond butter</th>\n",
       "      <th>Peanut butter</th>\n",
       "      <th>Cashew butter</th>\n",
       "    </tr>\n",
       "  </thead>\n",
       "  <tbody>\n",
       "    <tr>\n",
       "      <th>Price</th>\n",
       "      <td>10</td>\n",
       "      <td>8</td>\n",
       "      <td>12</td>\n",
       "    </tr>\n",
       "  </tbody>\n",
       "</table>\n",
       "</div>"
      ],
      "text/plain": [
       "       Almond butter  Peanut butter  Cashew butter\n",
       "Price             10              8             12"
      ]
     },
     "execution_count": 446,
     "metadata": {},
     "output_type": "execute_result"
    }
   ],
   "source": [
    "# Create daily_sales\n",
    "butter_prices\n"
   ]
  },
  {
   "cell_type": "code",
   "execution_count": 455,
   "metadata": {},
   "outputs": [
    {
     "data": {
      "text/plain": [
       "(5, 3)"
      ]
     },
     "execution_count": 455,
     "metadata": {},
     "output_type": "execute_result"
    }
   ],
   "source": [
    "np.random.seed(0)\n",
    "# Number of jars sold\n",
    "sales = np.random.randint(20, size=(5, 3))\n",
    "sales.shape\n"
   ]
  },
  {
   "cell_type": "code",
   "execution_count": 459,
   "metadata": {},
   "outputs": [
    {
     "data": {
      "text/plain": [
       "(1, 3)"
      ]
     },
     "execution_count": 459,
     "metadata": {},
     "output_type": "execute_result"
    }
   ],
   "source": [
    "# Create prices array\n",
    "price = np.array([10, 8, 12])\n",
    "price = price.reshape(1, 3)\n",
    "price.shape"
   ]
  },
  {
   "cell_type": "code",
   "execution_count": 464,
   "metadata": {
    "scrolled": true
   },
   "outputs": [
    {
     "data": {
      "text/plain": [
       "array([[240],\n",
       "       [138],\n",
       "       [458],\n",
       "       [232],\n",
       "       [142]])"
      ]
     },
     "execution_count": 464,
     "metadata": {},
     "output_type": "execute_result"
    }
   ],
   "source": [
    "sales.dot(price.T)"
   ]
  },
  {
   "cell_type": "code",
   "execution_count": 465,
   "metadata": {},
   "outputs": [
    {
     "data": {
      "text/plain": [
       "array([[240, 138, 458, 232, 142]])"
      ]
     },
     "execution_count": 465,
     "metadata": {},
     "output_type": "execute_result"
    }
   ],
   "source": [
    "price.dot(sales.T)"
   ]
  },
  {
   "cell_type": "code",
   "execution_count": 474,
   "metadata": {},
   "outputs": [
    {
     "data": {
      "text/plain": [
       "((1, 3), (5, 3))"
      ]
     },
     "execution_count": 474,
     "metadata": {},
     "output_type": "execute_result"
    }
   ],
   "source": [
    "# Create daliy_sales\n",
    "butter_prices.shape, weekly_sales.shape"
   ]
  },
  {
   "cell_type": "code",
   "execution_count": 476,
   "metadata": {},
   "outputs": [
    {
     "data": {
      "text/plain": [
       "(3, 5)"
      ]
     },
     "execution_count": 476,
     "metadata": {},
     "output_type": "execute_result"
    }
   ],
   "source": [
    "weekly_sales.T.shape"
   ]
  },
  {
   "cell_type": "code",
   "execution_count": 479,
   "metadata": {},
   "outputs": [
    {
     "data": {
      "text/html": [
       "<div>\n",
       "<style scoped>\n",
       "    .dataframe tbody tr th:only-of-type {\n",
       "        vertical-align: middle;\n",
       "    }\n",
       "\n",
       "    .dataframe tbody tr th {\n",
       "        vertical-align: top;\n",
       "    }\n",
       "\n",
       "    .dataframe thead th {\n",
       "        text-align: right;\n",
       "    }\n",
       "</style>\n",
       "<table border=\"1\" class=\"dataframe\">\n",
       "  <thead>\n",
       "    <tr style=\"text-align: right;\">\n",
       "      <th></th>\n",
       "      <th>Mon</th>\n",
       "      <th>Tues</th>\n",
       "      <th>Wed</th>\n",
       "      <th>Thurs</th>\n",
       "      <th>Fri</th>\n",
       "    </tr>\n",
       "  </thead>\n",
       "  <tbody>\n",
       "    <tr>\n",
       "      <th>Price</th>\n",
       "      <td>240</td>\n",
       "      <td>138</td>\n",
       "      <td>458</td>\n",
       "      <td>232</td>\n",
       "      <td>142</td>\n",
       "    </tr>\n",
       "  </tbody>\n",
       "</table>\n",
       "</div>"
      ],
      "text/plain": [
       "       Mon  Tues  Wed  Thurs  Fri\n",
       "Price  240   138  458    232  142"
      ]
     },
     "execution_count": 479,
     "metadata": {},
     "output_type": "execute_result"
    }
   ],
   "source": [
    "daliy_sales = butter_prices.dot(weekly_sales.T)\n",
    "daliy_sales"
   ]
  },
  {
   "cell_type": "code",
   "execution_count": 482,
   "metadata": {},
   "outputs": [
    {
     "data": {
      "text/html": [
       "<div>\n",
       "<style scoped>\n",
       "    .dataframe tbody tr th:only-of-type {\n",
       "        vertical-align: middle;\n",
       "    }\n",
       "\n",
       "    .dataframe tbody tr th {\n",
       "        vertical-align: top;\n",
       "    }\n",
       "\n",
       "    .dataframe thead th {\n",
       "        text-align: right;\n",
       "    }\n",
       "</style>\n",
       "<table border=\"1\" class=\"dataframe\">\n",
       "  <thead>\n",
       "    <tr style=\"text-align: right;\">\n",
       "      <th></th>\n",
       "      <th>Almond butter</th>\n",
       "      <th>Peanut butter</th>\n",
       "      <th>Cashew butter</th>\n",
       "      <th>Total ($)</th>\n",
       "    </tr>\n",
       "  </thead>\n",
       "  <tbody>\n",
       "    <tr>\n",
       "      <th>Mon</th>\n",
       "      <td>12</td>\n",
       "      <td>15</td>\n",
       "      <td>0</td>\n",
       "      <td>240</td>\n",
       "    </tr>\n",
       "    <tr>\n",
       "      <th>Tues</th>\n",
       "      <td>3</td>\n",
       "      <td>3</td>\n",
       "      <td>7</td>\n",
       "      <td>138</td>\n",
       "    </tr>\n",
       "    <tr>\n",
       "      <th>Wed</th>\n",
       "      <td>9</td>\n",
       "      <td>19</td>\n",
       "      <td>18</td>\n",
       "      <td>458</td>\n",
       "    </tr>\n",
       "    <tr>\n",
       "      <th>Thurs</th>\n",
       "      <td>4</td>\n",
       "      <td>6</td>\n",
       "      <td>12</td>\n",
       "      <td>232</td>\n",
       "    </tr>\n",
       "    <tr>\n",
       "      <th>Fri</th>\n",
       "      <td>1</td>\n",
       "      <td>6</td>\n",
       "      <td>7</td>\n",
       "      <td>142</td>\n",
       "    </tr>\n",
       "  </tbody>\n",
       "</table>\n",
       "</div>"
      ],
      "text/plain": [
       "       Almond butter  Peanut butter  Cashew butter  Total ($)\n",
       "Mon               12             15              0        240\n",
       "Tues               3              3              7        138\n",
       "Wed                9             19             18        458\n",
       "Thurs              4              6             12        232\n",
       "Fri                1              6              7        142"
      ]
     },
     "execution_count": 482,
     "metadata": {},
     "output_type": "execute_result"
    }
   ],
   "source": [
    "weekly_sales['Total ($)'] = daliy_sales.T\n",
    "weekly_sales"
   ]
  },
  {
   "cell_type": "markdown",
   "metadata": {},
   "source": [
    "## Comparison Operators"
   ]
  },
  {
   "cell_type": "code",
   "execution_count": 466,
   "metadata": {},
   "outputs": [
    {
     "data": {
      "text/plain": [
       "array([1, 2, 3])"
      ]
     },
     "execution_count": 466,
     "metadata": {},
     "output_type": "execute_result"
    }
   ],
   "source": [
    "a1"
   ]
  },
  {
   "cell_type": "code",
   "execution_count": 467,
   "metadata": {
    "scrolled": true
   },
   "outputs": [
    {
     "data": {
      "text/plain": [
       "array([[1. , 2. , 3.3],\n",
       "       [4. , 5. , 6.5]])"
      ]
     },
     "execution_count": 467,
     "metadata": {},
     "output_type": "execute_result"
    }
   ],
   "source": [
    "a2"
   ]
  },
  {
   "cell_type": "code",
   "execution_count": 468,
   "metadata": {},
   "outputs": [
    {
     "data": {
      "text/plain": [
       "array([[False, False, False],\n",
       "       [False, False, False]])"
      ]
     },
     "execution_count": 468,
     "metadata": {},
     "output_type": "execute_result"
    }
   ],
   "source": [
    "a1 > a2"
   ]
  },
  {
   "cell_type": "code",
   "execution_count": 483,
   "metadata": {},
   "outputs": [
    {
     "data": {
      "text/plain": [
       "array([[ True,  True, False],\n",
       "       [False, False, False]])"
      ]
     },
     "execution_count": 483,
     "metadata": {},
     "output_type": "execute_result"
    }
   ],
   "source": [
    "a1 >= a2"
   ]
  },
  {
   "cell_type": "code",
   "execution_count": 486,
   "metadata": {},
   "outputs": [
    {
     "data": {
      "text/plain": [
       "(numpy.ndarray, dtype('bool'))"
      ]
     },
     "execution_count": 486,
     "metadata": {},
     "output_type": "execute_result"
    }
   ],
   "source": [
    "bool_array = a1 >= a2\n",
    "type(bool_array), bool_array.dtype"
   ]
  },
  {
   "cell_type": "markdown",
   "metadata": {},
   "source": [
    "## Sorting arrays"
   ]
  },
  {
   "cell_type": "code",
   "execution_count": 505,
   "metadata": {},
   "outputs": [
    {
     "data": {
      "text/plain": [
       "array([[5, 8, 9, 5, 0],\n",
       "       [0, 1, 7, 6, 9],\n",
       "       [2, 4, 5, 2, 4]])"
      ]
     },
     "execution_count": 505,
     "metadata": {},
     "output_type": "execute_result"
    }
   ],
   "source": [
    "np.random.seed(1)\n",
    "random_array = np.random.randint(10, size=(3, 5))\n",
    "random_array"
   ]
  },
  {
   "cell_type": "code",
   "execution_count": 506,
   "metadata": {},
   "outputs": [
    {
     "data": {
      "text/plain": [
       "array([[0, 5, 5, 8, 9],\n",
       "       [0, 1, 6, 7, 9],\n",
       "       [2, 2, 4, 4, 5]])"
      ]
     },
     "execution_count": 506,
     "metadata": {},
     "output_type": "execute_result"
    }
   ],
   "source": [
    "np.sort(random_array)"
   ]
  },
  {
   "cell_type": "code",
   "execution_count": 509,
   "metadata": {},
   "outputs": [
    {
     "data": {
      "text/plain": [
       "array([[4, 0, 3, 1, 2],\n",
       "       [0, 1, 3, 2, 4],\n",
       "       [0, 3, 1, 4, 2]], dtype=int64)"
      ]
     },
     "execution_count": 509,
     "metadata": {},
     "output_type": "execute_result"
    }
   ],
   "source": [
    "# 回傳各維度index, 以'值'由小而大排序\n",
    "np.argsort(random_array)"
   ]
  },
  {
   "cell_type": "code",
   "execution_count": 510,
   "metadata": {
    "scrolled": true
   },
   "outputs": [
    {
     "data": {
      "text/plain": [
       "(0, 2)"
      ]
     },
     "execution_count": 510,
     "metadata": {},
     "output_type": "execute_result"
    }
   ],
   "source": [
    "# 返回最小、返回最大\n",
    "np.argmin(a1), np.argmax(a1)"
   ]
  },
  {
   "cell_type": "code",
   "execution_count": 514,
   "metadata": {
    "scrolled": true
   },
   "outputs": [
    {
     "data": {
      "text/plain": [
       "array([[5, 8, 9, 5, 0],\n",
       "       [0, 1, 7, 6, 9],\n",
       "       [2, 4, 5, 2, 4]])"
      ]
     },
     "execution_count": 514,
     "metadata": {},
     "output_type": "execute_result"
    }
   ],
   "source": [
    "random_array"
   ]
  },
  {
   "cell_type": "code",
   "execution_count": 519,
   "metadata": {},
   "outputs": [
    {
     "data": {
      "text/plain": [
       "array([0, 0, 0, 1, 1], dtype=int64)"
      ]
     },
     "execution_count": 519,
     "metadata": {},
     "output_type": "execute_result"
    }
   ],
   "source": [
    "np.argmax(random_array, axis=0)"
   ]
  },
  {
   "cell_type": "code",
   "execution_count": 631,
   "metadata": {},
   "outputs": [
    {
     "data": {
      "text/plain": [
       "array([[[[[44, 47, 64],\n",
       "          [67, 67,  9],\n",
       "          [83, 21, 36],\n",
       "          [87, 70, 88]],\n",
       "\n",
       "         [[88, 12, 58],\n",
       "          [65, 39, 87],\n",
       "          [46, 88, 81],\n",
       "          [37, 25, 77]],\n",
       "\n",
       "         [[72,  9, 20],\n",
       "          [80, 69, 79],\n",
       "          [47, 64, 82],\n",
       "          [99, 88, 49]],\n",
       "\n",
       "         [[29, 19, 19],\n",
       "          [14, 39, 32],\n",
       "          [65,  9, 57],\n",
       "          [32, 31, 74]],\n",
       "\n",
       "         [[23, 35, 75],\n",
       "          [55, 28, 34],\n",
       "          [ 0,  0, 36],\n",
       "          [53,  5, 38]]],\n",
       "\n",
       "\n",
       "        [[[17, 79,  4],\n",
       "          [42, 58, 31],\n",
       "          [ 1, 65, 41],\n",
       "          [57, 35, 11]],\n",
       "\n",
       "         [[46, 82, 91],\n",
       "          [ 0, 14, 99],\n",
       "          [53, 12, 42],\n",
       "          [84, 75, 68]],\n",
       "\n",
       "         [[ 6, 68, 47],\n",
       "          [ 3, 76, 52],\n",
       "          [78, 15, 20],\n",
       "          [99, 58, 23]],\n",
       "\n",
       "         [[79, 13, 85],\n",
       "          [48, 49, 69],\n",
       "          [41, 35, 64],\n",
       "          [95, 69, 94]],\n",
       "\n",
       "         [[ 0, 50, 36],\n",
       "          [34, 48, 93],\n",
       "          [ 3, 98, 42],\n",
       "          [77, 21, 73]]],\n",
       "\n",
       "\n",
       "        [[[ 0, 10, 43],\n",
       "          [58, 23, 59],\n",
       "          [ 2, 98, 62],\n",
       "          [35, 94, 67]],\n",
       "\n",
       "         [[82, 46, 99],\n",
       "          [20, 81, 50],\n",
       "          [27, 14, 41],\n",
       "          [58, 65, 36]],\n",
       "\n",
       "         [[10, 86, 43],\n",
       "          [11,  2, 51],\n",
       "          [80, 32, 54],\n",
       "          [ 0, 38, 19]],\n",
       "\n",
       "         [[46, 42, 56],\n",
       "          [60, 77, 30],\n",
       "          [24,  2,  3],\n",
       "          [94, 98, 13]],\n",
       "\n",
       "         [[40, 72, 19],\n",
       "          [95, 72, 26],\n",
       "          [66, 52, 67],\n",
       "          [61, 14, 96]]],\n",
       "\n",
       "\n",
       "        [[[ 4, 67, 11],\n",
       "          [86, 77, 75],\n",
       "          [56, 16, 24],\n",
       "          [29, 21, 25]],\n",
       "\n",
       "         [[80, 60, 61],\n",
       "          [83, 33, 32],\n",
       "          [70, 85, 31],\n",
       "          [13, 71, 56]],\n",
       "\n",
       "         [[24, 79, 41],\n",
       "          [18, 40, 54],\n",
       "          [79, 11, 38],\n",
       "          [93,  1, 95]],\n",
       "\n",
       "         [[44, 88, 24],\n",
       "          [67, 82,  3],\n",
       "          [76, 35, 86],\n",
       "          [61, 69, 87]],\n",
       "\n",
       "         [[43, 32, 11],\n",
       "          [84, 10, 54],\n",
       "          [37, 28,  2],\n",
       "          [27, 83, 89]]],\n",
       "\n",
       "\n",
       "        [[[23, 53, 51],\n",
       "          [46, 20, 53],\n",
       "          [29, 67, 35],\n",
       "          [39,  9, 73]],\n",
       "\n",
       "         [[41, 23,  3],\n",
       "          [46, 90, 50],\n",
       "          [ 3, 31,  9],\n",
       "          [10, 27, 45]],\n",
       "\n",
       "         [[71, 39, 61],\n",
       "          [85, 97, 44],\n",
       "          [34, 34, 88],\n",
       "          [33,  5, 36]],\n",
       "\n",
       "         [[ 0, 75, 34],\n",
       "          [69, 53, 80],\n",
       "          [62,  8, 61],\n",
       "          [ 1, 81, 35]],\n",
       "\n",
       "         [[91, 40, 36],\n",
       "          [48, 25, 67],\n",
       "          [35, 30, 29],\n",
       "          [33, 18, 17]]],\n",
       "\n",
       "\n",
       "        [[[93, 84,  2],\n",
       "          [69, 12, 44],\n",
       "          [66, 91, 85],\n",
       "          [39, 39, 75]],\n",
       "\n",
       "         [[22, 30, 17],\n",
       "          [70, 71, 18],\n",
       "          [92, 43, 83],\n",
       "          [49, 41, 93]],\n",
       "\n",
       "         [[46, 21, 73],\n",
       "          [89, 96, 91],\n",
       "          [73, 28, 81],\n",
       "          [58,  0, 86]],\n",
       "\n",
       "         [[63, 16, 36],\n",
       "          [94, 24, 63],\n",
       "          [67, 51,  8],\n",
       "          [56, 91, 93]],\n",
       "\n",
       "         [[87, 32, 19],\n",
       "          [72, 71, 87],\n",
       "          [13, 58, 81],\n",
       "          [55, 64, 75]]]],\n",
       "\n",
       "\n",
       "\n",
       "       [[[[92, 36, 25],\n",
       "          [32, 42, 14],\n",
       "          [86, 28, 20],\n",
       "          [82, 68, 22]],\n",
       "\n",
       "         [[99, 83,  7],\n",
       "          [72, 61, 13],\n",
       "          [ 5,  0,  8],\n",
       "          [79, 79, 53]],\n",
       "\n",
       "         [[11,  4, 39],\n",
       "          [92, 45, 26],\n",
       "          [74, 52, 49],\n",
       "          [91, 51, 99]],\n",
       "\n",
       "         [[18, 34, 51],\n",
       "          [30, 53, 58],\n",
       "          [43, 55, 18],\n",
       "          [45, 87, 65]],\n",
       "\n",
       "         [[70, 53, 48],\n",
       "          [94, 59, 80],\n",
       "          [26, 35, 58],\n",
       "          [49, 73, 44]]],\n",
       "\n",
       "\n",
       "        [[[13, 70, 38],\n",
       "          [39,  8, 13],\n",
       "          [ 7, 80, 22],\n",
       "          [79, 89,  8]],\n",
       "\n",
       "         [[99,  6, 81],\n",
       "          [71, 84, 89],\n",
       "          [66, 60, 16],\n",
       "          [56, 23, 24]],\n",
       "\n",
       "         [[ 4, 49, 87],\n",
       "          [30, 54, 25],\n",
       "          [20, 97, 57],\n",
       "          [23, 27, 29]],\n",
       "\n",
       "         [[33, 53, 51],\n",
       "          [86,  7,  9],\n",
       "          [54,  0, 83],\n",
       "          [36, 81, 20]],\n",
       "\n",
       "         [[ 3, 42, 65],\n",
       "          [20, 36, 68],\n",
       "          [80, 47, 10],\n",
       "          [94, 91, 43]]],\n",
       "\n",
       "\n",
       "        [[[63, 31, 20],\n",
       "          [70,  9, 60],\n",
       "          [91, 35, 83],\n",
       "          [76, 18, 74]],\n",
       "\n",
       "         [[98, 97, 43],\n",
       "          [ 3, 12, 58],\n",
       "          [ 1,  0, 39],\n",
       "          [24, 58, 36]],\n",
       "\n",
       "         [[99, 69,  6],\n",
       "          [ 3, 98, 40],\n",
       "          [60, 33, 28],\n",
       "          [68, 26, 96]],\n",
       "\n",
       "         [[51, 73, 53],\n",
       "          [69, 33,  7],\n",
       "          [94, 72, 84],\n",
       "          [ 7, 67, 85]],\n",
       "\n",
       "         [[91, 67, 84],\n",
       "          [71, 83, 95],\n",
       "          [ 0,  5, 91],\n",
       "          [30, 73, 83]]],\n",
       "\n",
       "\n",
       "        [[[ 7, 21, 92],\n",
       "          [ 8, 43, 46],\n",
       "          [ 0, 51, 38],\n",
       "          [89, 74, 98]],\n",
       "\n",
       "         [[87, 96, 83],\n",
       "          [26, 78, 32],\n",
       "          [70, 97, 44],\n",
       "          [59, 57, 50]],\n",
       "\n",
       "         [[45,  4, 57],\n",
       "          [93, 91, 17],\n",
       "          [35, 66, 20],\n",
       "          [45, 57, 79]],\n",
       "\n",
       "         [[36, 62,  4],\n",
       "          [77, 30, 87],\n",
       "          [98, 35, 73],\n",
       "          [90, 55, 26]],\n",
       "\n",
       "         [[22, 76, 79],\n",
       "          [98, 90, 51],\n",
       "          [46, 80, 61],\n",
       "          [60, 47,  0]]],\n",
       "\n",
       "\n",
       "        [[[10, 75, 13],\n",
       "          [71, 94,  6],\n",
       "          [45, 30, 15],\n",
       "          [41, 38, 53]],\n",
       "\n",
       "         [[43, 82,  7],\n",
       "          [92, 65, 41],\n",
       "          [66, 92, 78],\n",
       "          [91, 31, 93]],\n",
       "\n",
       "         [[50, 46, 93],\n",
       "          [33, 12, 96],\n",
       "          [80, 66, 72],\n",
       "          [10, 90, 27]],\n",
       "\n",
       "         [[56, 65, 64],\n",
       "          [69, 88, 34],\n",
       "          [79,  3, 60],\n",
       "          [37, 43, 83]],\n",
       "\n",
       "         [[88, 70, 20],\n",
       "          [ 6, 28,  6],\n",
       "          [66, 92, 92],\n",
       "          [69, 73, 54]]],\n",
       "\n",
       "\n",
       "        [[[77, 21, 31],\n",
       "          [81, 35,  8],\n",
       "          [25, 21, 45],\n",
       "          [86, 16, 25]],\n",
       "\n",
       "         [[37,  1,  5],\n",
       "          [70, 12, 90],\n",
       "          [74, 54, 78],\n",
       "          [62, 72, 71]],\n",
       "\n",
       "         [[45,  5, 47],\n",
       "          [59, 42, 67],\n",
       "          [10, 57, 91],\n",
       "          [89,  3, 78]],\n",
       "\n",
       "         [[82, 69, 58],\n",
       "          [ 4, 17, 69],\n",
       "          [63, 94, 24],\n",
       "          [ 3, 69, 40]],\n",
       "\n",
       "         [[36, 58, 49],\n",
       "          [55, 24, 33],\n",
       "          [18, 97, 78],\n",
       "          [ 7, 53, 46]]]],\n",
       "\n",
       "\n",
       "\n",
       "       [[[[33, 81, 29],\n",
       "          [12, 46, 32],\n",
       "          [34, 87, 25],\n",
       "          [46, 52, 64]],\n",
       "\n",
       "         [[76, 73, 18],\n",
       "          [ 4,  7,  3],\n",
       "          [48, 76, 37],\n",
       "          [48, 82, 51]],\n",
       "\n",
       "         [[49, 71, 90],\n",
       "          [49, 29,  3],\n",
       "          [74, 84, 65],\n",
       "          [20, 80, 42]],\n",
       "\n",
       "         [[28, 26, 87],\n",
       "          [52, 48, 66],\n",
       "          [ 9,  2, 89],\n",
       "          [90, 68, 10]],\n",
       "\n",
       "         [[12, 97, 37],\n",
       "          [39, 32, 33],\n",
       "          [26, 99, 89],\n",
       "          [50, 88, 82]]],\n",
       "\n",
       "\n",
       "        [[[20, 94, 28],\n",
       "          [72, 18, 25],\n",
       "          [24, 39, 28],\n",
       "          [24, 18, 67]],\n",
       "\n",
       "         [[44, 83, 45],\n",
       "          [54,  0, 10],\n",
       "          [67,  6, 91],\n",
       "          [99, 57, 70]],\n",
       "\n",
       "         [[19, 34, 50],\n",
       "          [20, 43,  0],\n",
       "          [66, 97, 12],\n",
       "          [15, 33, 23]],\n",
       "\n",
       "         [[12,  5, 38],\n",
       "          [ 1, 10,  6],\n",
       "          [ 6, 38, 75],\n",
       "          [85, 50, 51]],\n",
       "\n",
       "         [[ 2, 76, 29],\n",
       "          [ 9, 72,  5],\n",
       "          [53, 65, 43],\n",
       "          [79, 62, 76]]],\n",
       "\n",
       "\n",
       "        [[[47, 76, 21],\n",
       "          [18, 89, 13],\n",
       "          [94, 92, 85],\n",
       "          [ 6, 48, 40]],\n",
       "\n",
       "         [[26, 30,  5],\n",
       "          [15, 63, 37],\n",
       "          [59, 95, 96],\n",
       "          [80, 32, 62]],\n",
       "\n",
       "         [[10, 12, 93],\n",
       "          [64, 29, 90],\n",
       "          [22, 19,  5],\n",
       "          [36, 83,  5]],\n",
       "\n",
       "         [[92, 76, 26],\n",
       "          [83, 12,  7],\n",
       "          [52, 80, 29],\n",
       "          [ 0, 87, 79]],\n",
       "\n",
       "         [[74,  3, 61],\n",
       "          [67, 16, 73],\n",
       "          [84, 56, 62],\n",
       "          [56, 48, 17]]],\n",
       "\n",
       "\n",
       "        [[[57,  9, 62],\n",
       "          [79, 78, 33],\n",
       "          [ 4, 16, 71],\n",
       "          [62, 23, 91]],\n",
       "\n",
       "         [[ 7, 22, 98],\n",
       "          [30, 80, 27],\n",
       "          [47, 11, 87],\n",
       "          [78, 30, 90]],\n",
       "\n",
       "         [[34, 54, 81],\n",
       "          [35, 71, 59],\n",
       "          [37, 68, 53],\n",
       "          [13, 19,  8]],\n",
       "\n",
       "         [[96, 81, 69],\n",
       "          [ 1, 29,  5],\n",
       "          [80, 40, 22],\n",
       "          [30, 19,  4]],\n",
       "\n",
       "         [[20, 74, 67],\n",
       "          [86, 60, 93],\n",
       "          [41, 40, 60],\n",
       "          [81, 51, 40]]],\n",
       "\n",
       "\n",
       "        [[[59, 94, 29],\n",
       "          [97, 94, 37],\n",
       "          [88, 16, 99],\n",
       "          [39, 29, 65]],\n",
       "\n",
       "         [[23, 72,  0],\n",
       "          [87, 37, 63],\n",
       "          [26, 89, 89],\n",
       "          [ 6, 88, 79]],\n",
       "\n",
       "         [[41, 17, 80],\n",
       "          [43, 69, 19],\n",
       "          [22, 11, 11],\n",
       "          [33,  7, 26]],\n",
       "\n",
       "         [[48, 71, 54],\n",
       "          [96, 82, 87],\n",
       "          [21,  2,  8],\n",
       "          [10,  5, 38]],\n",
       "\n",
       "         [[38, 65, 59],\n",
       "          [36,  5,  5],\n",
       "          [38, 35, 88],\n",
       "          [49, 79, 84]]],\n",
       "\n",
       "\n",
       "        [[[ 9,  4, 49],\n",
       "          [24, 94,  2],\n",
       "          [83,  3, 77],\n",
       "          [11, 13, 81]],\n",
       "\n",
       "         [[26, 70, 47],\n",
       "          [98, 21, 20],\n",
       "          [42, 57, 17],\n",
       "          [89, 85, 55]],\n",
       "\n",
       "         [[68, 98, 11],\n",
       "          [98, 97, 19],\n",
       "          [11, 97, 25],\n",
       "          [97, 95, 45]],\n",
       "\n",
       "         [[ 6, 89, 88],\n",
       "          [38, 51, 16],\n",
       "          [23, 90,  3],\n",
       "          [90, 46, 29]],\n",
       "\n",
       "         [[ 2,  5, 71],\n",
       "          [15, 78, 35],\n",
       "          [52,  7, 51],\n",
       "          [51, 29, 55]]]],\n",
       "\n",
       "\n",
       "\n",
       "       ...,\n",
       "\n",
       "\n",
       "\n",
       "       [[[[90, 80, 46],\n",
       "          [96, 94, 84],\n",
       "          [23, 15, 44],\n",
       "          [83, 55, 98]],\n",
       "\n",
       "         [[27, 45, 98],\n",
       "          [81, 87, 27],\n",
       "          [77, 48, 87],\n",
       "          [94,  5, 97]],\n",
       "\n",
       "         [[98, 28, 65],\n",
       "          [68, 85, 72],\n",
       "          [33, 99, 48],\n",
       "          [99, 89, 69]],\n",
       "\n",
       "         [[65, 99, 71],\n",
       "          [ 1,  1, 71],\n",
       "          [25, 77, 50],\n",
       "          [27, 96, 43]],\n",
       "\n",
       "         [[19, 98, 45],\n",
       "          [80, 43, 67],\n",
       "          [ 8, 83, 46],\n",
       "          [64, 20, 96]]],\n",
       "\n",
       "\n",
       "        [[[98,  5, 85],\n",
       "          [24,  2, 71],\n",
       "          [75, 28, 95],\n",
       "          [65, 80, 82]],\n",
       "\n",
       "         [[14, 21, 69],\n",
       "          [33,  2, 27],\n",
       "          [19, 15, 71],\n",
       "          [29, 35, 97]],\n",
       "\n",
       "         [[48, 49, 80],\n",
       "          [56, 63, 88],\n",
       "          [58,  5, 51],\n",
       "          [61, 83, 17]],\n",
       "\n",
       "         [[45, 96, 62],\n",
       "          [22, 97,  9],\n",
       "          [ 5, 76, 61],\n",
       "          [42, 16, 59]],\n",
       "\n",
       "         [[17, 68, 60],\n",
       "          [25, 14, 61],\n",
       "          [53, 81, 29],\n",
       "          [70, 28, 74]]],\n",
       "\n",
       "\n",
       "        [[[ 5, 84, 55],\n",
       "          [50, 86, 53],\n",
       "          [10, 43, 59],\n",
       "          [30, 59, 14]],\n",
       "\n",
       "         [[48, 56, 65],\n",
       "          [ 7, 69, 15],\n",
       "          [52, 32, 87],\n",
       "          [78, 34, 29]],\n",
       "\n",
       "         [[51, 89, 53],\n",
       "          [ 4, 64, 26],\n",
       "          [84,  5, 88],\n",
       "          [17, 68, 56]],\n",
       "\n",
       "         [[32, 81, 72],\n",
       "          [73, 31, 94],\n",
       "          [73, 48, 99],\n",
       "          [32, 14, 61]],\n",
       "\n",
       "         [[87, 32, 56],\n",
       "          [28, 43, 97],\n",
       "          [50, 46, 72],\n",
       "          [37,  2, 17]]],\n",
       "\n",
       "\n",
       "        [[[15, 67, 85],\n",
       "          [93, 22, 82],\n",
       "          [ 7, 55, 49],\n",
       "          [26,  4, 89]],\n",
       "\n",
       "         [[26, 60, 83],\n",
       "          [78, 18, 96],\n",
       "          [91, 36, 20],\n",
       "          [ 3, 18, 77]],\n",
       "\n",
       "         [[51, 49, 31],\n",
       "          [97, 18, 12],\n",
       "          [91, 98, 71],\n",
       "          [94, 45, 80]],\n",
       "\n",
       "         [[65, 88, 16],\n",
       "          [45, 91, 37],\n",
       "          [50, 24, 48],\n",
       "          [76,  4, 51]],\n",
       "\n",
       "         [[46, 40, 14],\n",
       "          [10, 27, 78],\n",
       "          [13,  4, 86],\n",
       "          [15, 29, 78]]],\n",
       "\n",
       "\n",
       "        [[[42, 25, 75],\n",
       "          [95, 91, 22],\n",
       "          [43, 84, 55],\n",
       "          [ 2, 25,  0]],\n",
       "\n",
       "         [[95, 56, 70],\n",
       "          [82, 86, 62],\n",
       "          [46, 89, 77],\n",
       "          [12, 62, 37]],\n",
       "\n",
       "         [[83, 31, 28],\n",
       "          [59, 83, 40],\n",
       "          [89, 29, 28],\n",
       "          [52, 42, 10]],\n",
       "\n",
       "         [[84, 17,  0],\n",
       "          [39, 38, 98],\n",
       "          [65, 48, 86],\n",
       "          [45, 49, 22]],\n",
       "\n",
       "         [[92, 65, 85],\n",
       "          [66, 32, 50],\n",
       "          [70, 35, 23],\n",
       "          [82, 89, 79]]],\n",
       "\n",
       "\n",
       "        [[[27, 85,  1],\n",
       "          [ 9, 81, 11],\n",
       "          [64, 67, 61],\n",
       "          [54, 36, 84]],\n",
       "\n",
       "         [[19, 69, 84],\n",
       "          [62, 68, 41],\n",
       "          [80, 16, 57],\n",
       "          [ 5, 96, 22]],\n",
       "\n",
       "         [[ 3,  8, 62],\n",
       "          [92, 41, 74],\n",
       "          [92, 95, 11],\n",
       "          [34, 91, 49]],\n",
       "\n",
       "         [[71, 39, 58],\n",
       "          [ 5, 73, 88],\n",
       "          [12, 97, 59],\n",
       "          [78, 15,  4]],\n",
       "\n",
       "         [[22, 52, 66],\n",
       "          [71, 72,  5],\n",
       "          [39, 79, 79],\n",
       "          [41, 89, 22]]]],\n",
       "\n",
       "\n",
       "\n",
       "       [[[[89, 89, 19],\n",
       "          [62, 29,  9],\n",
       "          [11, 99, 26],\n",
       "          [82, 72,  1]],\n",
       "\n",
       "         [[99, 46, 55],\n",
       "          [10, 74, 24],\n",
       "          [95, 43, 91],\n",
       "          [13, 78, 55]],\n",
       "\n",
       "         [[ 5, 23, 42],\n",
       "          [49, 75, 56],\n",
       "          [43, 24, 81],\n",
       "          [21, 94, 18]],\n",
       "\n",
       "         [[63, 89, 29],\n",
       "          [37, 49, 40],\n",
       "          [95, 11, 56],\n",
       "          [63, 14, 32]],\n",
       "\n",
       "         [[65, 65, 36],\n",
       "          [25, 76, 72],\n",
       "          [50, 12, 24],\n",
       "          [19, 67, 10]]],\n",
       "\n",
       "\n",
       "        [[[ 7, 52, 92],\n",
       "          [14, 72, 46],\n",
       "          [99, 35, 81],\n",
       "          [23, 61, 53]],\n",
       "\n",
       "         [[12, 45,  7],\n",
       "          [47, 39, 94],\n",
       "          [19, 50, 65],\n",
       "          [43, 82, 78]],\n",
       "\n",
       "         [[89, 56, 72],\n",
       "          [50, 34, 90],\n",
       "          [11, 11, 36],\n",
       "          [49, 76, 81]],\n",
       "\n",
       "         [[95, 74, 48],\n",
       "          [74, 11, 93],\n",
       "          [34, 74, 76],\n",
       "          [39, 10,  2]],\n",
       "\n",
       "         [[75, 46, 51],\n",
       "          [41, 91,  3],\n",
       "          [16, 63, 64],\n",
       "          [13, 38,  4]]],\n",
       "\n",
       "\n",
       "        [[[ 3, 19, 81],\n",
       "          [16, 71, 24],\n",
       "          [11, 22, 60],\n",
       "          [91,  2,  8]],\n",
       "\n",
       "         [[72, 89, 38],\n",
       "          [52, 97, 88],\n",
       "          [63, 21,  4],\n",
       "          [31, 75, 37]],\n",
       "\n",
       "         [[ 7, 22, 42],\n",
       "          [59, 95, 54],\n",
       "          [73, 51, 82],\n",
       "          [23, 83, 25]],\n",
       "\n",
       "         [[57, 69, 89],\n",
       "          [45, 88, 51],\n",
       "          [59, 44, 26],\n",
       "          [43, 32, 30]],\n",
       "\n",
       "         [[14, 71, 96],\n",
       "          [61,  1, 47],\n",
       "          [43, 90, 15],\n",
       "          [68, 74, 85]]],\n",
       "\n",
       "\n",
       "        [[[39, 94, 86],\n",
       "          [ 0, 81, 58],\n",
       "          [12, 91, 43],\n",
       "          [54, 47, 22]],\n",
       "\n",
       "         [[31, 34, 98],\n",
       "          [42, 68, 62],\n",
       "          [36, 83, 44],\n",
       "          [81, 70,  6]],\n",
       "\n",
       "         [[48,  9, 28],\n",
       "          [77, 56,  9],\n",
       "          [85, 66,  9],\n",
       "          [36, 28, 64]],\n",
       "\n",
       "         [[74, 13,  2],\n",
       "          [37, 71, 87],\n",
       "          [94, 81,  3],\n",
       "          [98, 80, 82]],\n",
       "\n",
       "         [[50, 61, 82],\n",
       "          [28, 35, 53],\n",
       "          [26, 42, 46],\n",
       "          [69, 28, 43]]],\n",
       "\n",
       "\n",
       "        [[[83, 62, 74],\n",
       "          [74,  9, 91],\n",
       "          [99, 75, 96],\n",
       "          [38, 31, 22]],\n",
       "\n",
       "         [[91, 57, 21],\n",
       "          [97, 61, 41],\n",
       "          [99, 41, 23],\n",
       "          [52, 23, 72]],\n",
       "\n",
       "         [[41, 60, 47],\n",
       "          [15, 36, 65],\n",
       "          [94, 42,  0],\n",
       "          [83,  6, 93]],\n",
       "\n",
       "         [[67, 31, 29],\n",
       "          [16, 67, 26],\n",
       "          [ 6, 11, 81],\n",
       "          [55, 43, 67]],\n",
       "\n",
       "         [[20, 91, 92],\n",
       "          [14, 14, 80],\n",
       "          [99, 63, 43],\n",
       "          [27, 87, 20]]],\n",
       "\n",
       "\n",
       "        [[[23, 34, 32],\n",
       "          [65, 22, 21],\n",
       "          [57, 68, 45],\n",
       "          [39, 24, 86]],\n",
       "\n",
       "         [[17, 52, 90],\n",
       "          [ 8,  5, 97],\n",
       "          [86, 82, 10],\n",
       "          [62, 29, 11]],\n",
       "\n",
       "         [[30, 71, 58],\n",
       "          [94, 42, 85],\n",
       "          [71, 25, 54],\n",
       "          [83, 25, 45]],\n",
       "\n",
       "         [[ 3, 84, 83],\n",
       "          [37, 33, 60],\n",
       "          [89,  7, 60],\n",
       "          [37, 84, 98]],\n",
       "\n",
       "         [[16, 45, 39],\n",
       "          [33, 97, 65],\n",
       "          [73, 87, 68],\n",
       "          [24,  6, 97]]]],\n",
       "\n",
       "\n",
       "\n",
       "       [[[[60, 88, 61],\n",
       "          [59, 74, 29],\n",
       "          [28, 24,  3],\n",
       "          [82, 21,  6]],\n",
       "\n",
       "         [[84, 21, 27],\n",
       "          [26, 89, 64],\n",
       "          [ 3, 53, 37],\n",
       "          [ 7, 80, 75]],\n",
       "\n",
       "         [[11,  2, 54],\n",
       "          [ 5, 17, 78],\n",
       "          [ 5, 78, 81],\n",
       "          [30, 98,  3]],\n",
       "\n",
       "         [[ 0, 93, 44],\n",
       "          [44, 61,  0],\n",
       "          [17, 29, 91],\n",
       "          [34, 59, 21]],\n",
       "\n",
       "         [[63, 94, 17],\n",
       "          [38, 79,  1],\n",
       "          [15, 86, 17],\n",
       "          [53, 22, 77]]],\n",
       "\n",
       "\n",
       "        [[[47, 66, 11],\n",
       "          [ 9, 40, 54],\n",
       "          [51, 47,  4],\n",
       "          [10,  6, 44]],\n",
       "\n",
       "         [[72,  8, 72],\n",
       "          [18,  2, 69],\n",
       "          [93, 29, 27],\n",
       "          [17, 58, 11]],\n",
       "\n",
       "         [[49, 72, 88],\n",
       "          [ 3, 11, 57],\n",
       "          [50, 15, 57],\n",
       "          [ 3, 60, 39]],\n",
       "\n",
       "         [[85, 29, 53],\n",
       "          [67, 56, 75],\n",
       "          [79, 45, 90],\n",
       "          [79, 97, 11]],\n",
       "\n",
       "         [[ 5, 30, 58],\n",
       "          [68, 59, 32],\n",
       "          [37, 43, 60],\n",
       "          [45, 29, 27]]],\n",
       "\n",
       "\n",
       "        [[[27, 29, 72],\n",
       "          [75, 97, 78],\n",
       "          [38, 11, 74],\n",
       "          [89, 32, 50]],\n",
       "\n",
       "         [[40, 70, 30],\n",
       "          [22, 75, 35],\n",
       "          [84, 68, 63],\n",
       "          [ 4, 49, 29]],\n",
       "\n",
       "         [[63, 61, 91],\n",
       "          [83, 90, 26],\n",
       "          [73, 50, 95],\n",
       "          [94, 17, 71]],\n",
       "\n",
       "         [[56, 35, 73],\n",
       "          [92, 47, 48],\n",
       "          [71, 67, 71],\n",
       "          [62, 72, 37]],\n",
       "\n",
       "         [[ 5, 97, 55],\n",
       "          [92, 46, 38],\n",
       "          [49,  8, 65],\n",
       "          [66, 62, 16]]],\n",
       "\n",
       "\n",
       "        [[[61, 66, 11],\n",
       "          [31, 10, 20],\n",
       "          [14, 52, 71],\n",
       "          [29,  5, 14]],\n",
       "\n",
       "         [[79, 51, 32],\n",
       "          [23, 91,  6],\n",
       "          [73, 65, 75],\n",
       "          [87, 70, 40]],\n",
       "\n",
       "         [[60, 36, 12],\n",
       "          [35, 62, 69],\n",
       "          [62, 58, 76],\n",
       "          [18,  0,  1]],\n",
       "\n",
       "         [[84, 77, 90],\n",
       "          [21, 78, 13],\n",
       "          [67, 17,  5],\n",
       "          [26, 63, 27]],\n",
       "\n",
       "         [[41, 13, 45],\n",
       "          [48, 56, 58],\n",
       "          [17, 86, 95],\n",
       "          [89, 92, 77]]],\n",
       "\n",
       "\n",
       "        [[[ 7, 26, 17],\n",
       "          [68, 43, 47],\n",
       "          [94, 92, 72],\n",
       "          [58, 27,  6]],\n",
       "\n",
       "         [[ 7, 53, 26],\n",
       "          [75, 37, 93],\n",
       "          [49, 20, 93],\n",
       "          [56, 61, 55]],\n",
       "\n",
       "         [[92, 23, 57],\n",
       "          [ 9,  0, 19],\n",
       "          [71, 50, 38],\n",
       "          [67, 30, 37]],\n",
       "\n",
       "         [[56,  5, 59],\n",
       "          [80, 90, 61],\n",
       "          [31, 70, 89],\n",
       "          [75, 17, 31]],\n",
       "\n",
       "         [[31, 84, 90],\n",
       "          [39, 50, 74],\n",
       "          [38, 68, 39],\n",
       "          [79, 13, 35]]],\n",
       "\n",
       "\n",
       "        [[[11, 75, 54],\n",
       "          [36, 82, 75],\n",
       "          [51, 34, 58],\n",
       "          [80, 28,  9]],\n",
       "\n",
       "         [[ 8, 17, 92],\n",
       "          [25, 94, 59],\n",
       "          [94, 59, 58],\n",
       "          [18, 12,  1]],\n",
       "\n",
       "         [[27, 10, 67],\n",
       "          [61, 16, 27],\n",
       "          [ 6,  0,  7],\n",
       "          [25, 67, 59]],\n",
       "\n",
       "         [[36, 44, 85],\n",
       "          [72, 38, 42],\n",
       "          [97, 36, 68],\n",
       "          [91, 13, 13]],\n",
       "\n",
       "         [[41, 72,  6],\n",
       "          [94, 12, 98],\n",
       "          [ 3, 16,  5],\n",
       "          [40, 55, 29]]]]])"
      ]
     },
     "execution_count": 631,
     "metadata": {},
     "output_type": "execute_result"
    }
   ],
   "source": [
    "np.random.seed(0)\n",
    "r = np.random.randint(100, size=(7, 6, 5, 4, 3))\n",
    "r"
   ]
  },
  {
   "cell_type": "code",
   "execution_count": 632,
   "metadata": {},
   "outputs": [
    {
     "data": {
      "text/plain": [
       "array([[[[2, 0, 0, 2],\n",
       "         [0, 2, 1, 2],\n",
       "         [0, 0, 2, 0],\n",
       "         [0, 1, 0, 2],\n",
       "         [2, 0, 2, 0]],\n",
       "\n",
       "        [[1, 1, 1, 0],\n",
       "         [2, 2, 0, 0],\n",
       "         [1, 1, 0, 0],\n",
       "         [2, 2, 2, 0],\n",
       "         [1, 2, 1, 0]],\n",
       "\n",
       "        [[2, 2, 1, 1],\n",
       "         [2, 1, 2, 1],\n",
       "         [1, 2, 0, 1],\n",
       "         [2, 1, 0, 1],\n",
       "         [1, 0, 2, 2]],\n",
       "\n",
       "        [[1, 0, 0, 0],\n",
       "         [0, 0, 1, 1],\n",
       "         [1, 2, 0, 2],\n",
       "         [1, 1, 2, 2],\n",
       "         [0, 0, 0, 2]],\n",
       "\n",
       "        [[1, 2, 1, 2],\n",
       "         [0, 1, 1, 2],\n",
       "         [0, 1, 2, 2],\n",
       "         [1, 2, 0, 1],\n",
       "         [0, 2, 0, 0]],\n",
       "\n",
       "        [[0, 0, 1, 2],\n",
       "         [1, 1, 0, 2],\n",
       "         [2, 1, 2, 2],\n",
       "         [0, 0, 0, 2],\n",
       "         [0, 2, 2, 2]]],\n",
       "\n",
       "\n",
       "       [[[0, 1, 0, 0],\n",
       "         [0, 0, 2, 0],\n",
       "         [2, 0, 0, 2],\n",
       "         [2, 2, 1, 1],\n",
       "         [0, 0, 2, 1]],\n",
       "\n",
       "        [[1, 0, 1, 1],\n",
       "         [0, 2, 0, 0],\n",
       "         [2, 1, 1, 2],\n",
       "         [1, 0, 2, 1],\n",
       "         [2, 2, 0, 0]],\n",
       "\n",
       "        [[0, 0, 0, 0],\n",
       "         [0, 2, 2, 1],\n",
       "         [0, 1, 0, 2],\n",
       "         [1, 0, 0, 2],\n",
       "         [0, 2, 2, 2]],\n",
       "\n",
       "        [[2, 2, 1, 2],\n",
       "         [1, 1, 1, 0],\n",
       "         [2, 0, 1, 2],\n",
       "         [1, 2, 0, 0],\n",
       "         [2, 0, 1, 0]],\n",
       "\n",
       "        [[1, 1, 0, 2],\n",
       "         [1, 0, 1, 2],\n",
       "         [2, 2, 0, 1],\n",
       "         [1, 1, 0, 2],\n",
       "         [0, 1, 1, 1]],\n",
       "\n",
       "        [[0, 0, 2, 0],\n",
       "         [0, 2, 2, 1],\n",
       "         [2, 2, 2, 0],\n",
       "         [0, 2, 1, 1],\n",
       "         [1, 0, 1, 1]]],\n",
       "\n",
       "\n",
       "       [[[1, 1, 1, 2],\n",
       "         [0, 1, 1, 1],\n",
       "         [2, 0, 1, 1],\n",
       "         [2, 2, 2, 0],\n",
       "         [1, 0, 1, 1]],\n",
       "\n",
       "        [[1, 0, 1, 2],\n",
       "         [1, 0, 2, 0],\n",
       "         [2, 1, 1, 1],\n",
       "         [2, 1, 2, 0],\n",
       "         [1, 1, 1, 0]],\n",
       "\n",
       "        [[1, 1, 0, 1],\n",
       "         [1, 1, 2, 0],\n",
       "         [2, 2, 0, 1],\n",
       "         [0, 0, 1, 1],\n",
       "         [0, 2, 0, 0]],\n",
       "\n",
       "        [[2, 0, 2, 2],\n",
       "         [2, 1, 2, 2],\n",
       "         [2, 1, 1, 1],\n",
       "         [0, 1, 0, 0],\n",
       "         [1, 2, 2, 0]],\n",
       "\n",
       "        [[1, 0, 2, 2],\n",
       "         [1, 0, 1, 1],\n",
       "         [2, 1, 0, 0],\n",
       "         [1, 0, 0, 2],\n",
       "         [1, 0, 2, 2]],\n",
       "\n",
       "        [[2, 1, 0, 2],\n",
       "         [1, 0, 1, 0],\n",
       "         [1, 0, 1, 0],\n",
       "         [1, 1, 1, 0],\n",
       "         [2, 1, 0, 2]]],\n",
       "\n",
       "\n",
       "       [[[2, 1, 2, 2],\n",
       "         [0, 2, 1, 2],\n",
       "         [0, 2, 1, 1],\n",
       "         [0, 0, 0, 1],\n",
       "         [1, 2, 0, 2]],\n",
       "\n",
       "        [[1, 2, 2, 2],\n",
       "         [2, 1, 2, 2],\n",
       "         [1, 2, 0, 0],\n",
       "         [1, 0, 0, 1],\n",
       "         [1, 1, 1, 2]],\n",
       "\n",
       "        [[0, 0, 0, 1],\n",
       "         [0, 1, 1, 1],\n",
       "         [1, 2, 2, 1],\n",
       "         [1, 2, 1, 2],\n",
       "         [0, 2, 0, 1]],\n",
       "\n",
       "        [[0, 2, 2, 2],\n",
       "         [2, 2, 0, 2],\n",
       "         [2, 0, 0, 1],\n",
       "         [0, 1, 2, 2],\n",
       "         [0, 1, 0, 2]],\n",
       "\n",
       "        [[2, 2, 1, 2],\n",
       "         [0, 2, 0, 2],\n",
       "         [2, 2, 2, 0],\n",
       "         [1, 2, 1, 1],\n",
       "         [0, 0, 1, 2]],\n",
       "\n",
       "        [[2, 1, 0, 2],\n",
       "         [2, 1, 2, 2],\n",
       "         [1, 0, 0, 1],\n",
       "         [0, 0, 0, 0],\n",
       "         [2, 2, 0, 2]]],\n",
       "\n",
       "\n",
       "       [[[0, 0, 2, 2],\n",
       "         [2, 1, 2, 2],\n",
       "         [0, 1, 1, 0],\n",
       "         [1, 2, 1, 1],\n",
       "         [1, 0, 1, 2]],\n",
       "\n",
       "        [[0, 2, 2, 2],\n",
       "         [2, 0, 2, 2],\n",
       "         [2, 2, 0, 1],\n",
       "         [1, 1, 1, 2],\n",
       "         [1, 2, 1, 2]],\n",
       "\n",
       "        [[1, 1, 2, 1],\n",
       "         [2, 1, 2, 0],\n",
       "         [1, 1, 2, 1],\n",
       "         [1, 2, 2, 2],\n",
       "         [0, 2, 2, 0]],\n",
       "\n",
       "        [[2, 0, 1, 2],\n",
       "         [2, 2, 0, 2],\n",
       "         [0, 0, 1, 0],\n",
       "         [1, 1, 0, 0],\n",
       "         [0, 2, 2, 2]],\n",
       "\n",
       "        [[2, 0, 1, 1],\n",
       "         [0, 1, 1, 1],\n",
       "         [0, 1, 0, 0],\n",
       "         [0, 2, 2, 1],\n",
       "         [0, 0, 0, 1]],\n",
       "\n",
       "        [[1, 1, 1, 2],\n",
       "         [2, 1, 0, 1],\n",
       "         [2, 0, 1, 1],\n",
       "         [0, 2, 1, 0],\n",
       "         [2, 1, 1, 1]]],\n",
       "\n",
       "\n",
       "       [[[0, 0, 1, 0],\n",
       "         [0, 1, 0, 1],\n",
       "         [2, 1, 2, 1],\n",
       "         [1, 1, 0, 0],\n",
       "         [0, 1, 0, 1]],\n",
       "\n",
       "        [[2, 1, 0, 1],\n",
       "         [1, 2, 2, 1],\n",
       "         [0, 2, 2, 2],\n",
       "         [0, 2, 2, 0],\n",
       "         [0, 1, 2, 1]],\n",
       "\n",
       "        [[2, 1, 2, 0],\n",
       "         [1, 1, 0, 1],\n",
       "         [2, 1, 2, 1],\n",
       "         [2, 1, 0, 0],\n",
       "         [2, 0, 1, 2]],\n",
       "\n",
       "        [[1, 1, 1, 0],\n",
       "         [2, 1, 1, 0],\n",
       "         [0, 0, 0, 2],\n",
       "         [0, 2, 0, 0],\n",
       "         [2, 2, 2, 0]],\n",
       "\n",
       "        [[0, 2, 0, 0],\n",
       "         [0, 0, 0, 2],\n",
       "         [1, 2, 0, 2],\n",
       "         [0, 1, 2, 2],\n",
       "         [2, 2, 0, 1]],\n",
       "\n",
       "        [[1, 0, 1, 2],\n",
       "         [2, 2, 0, 0],\n",
       "         [1, 0, 0, 0],\n",
       "         [1, 2, 0, 2],\n",
       "         [1, 1, 1, 2]]],\n",
       "\n",
       "\n",
       "       [[[1, 1, 0, 0],\n",
       "         [0, 1, 1, 1],\n",
       "         [2, 2, 2, 1],\n",
       "         [1, 1, 2, 1],\n",
       "         [1, 1, 1, 2]],\n",
       "\n",
       "        [[1, 2, 0, 2],\n",
       "         [0, 2, 0, 1],\n",
       "         [2, 2, 2, 1],\n",
       "         [0, 2, 2, 1],\n",
       "         [2, 0, 2, 0]],\n",
       "\n",
       "        [[2, 1, 2, 0],\n",
       "         [1, 1, 0, 1],\n",
       "         [2, 1, 2, 0],\n",
       "         [2, 0, 0, 1],\n",
       "         [1, 0, 2, 0]],\n",
       "\n",
       "        [[1, 0, 2, 0],\n",
       "         [0, 1, 2, 0],\n",
       "         [0, 2, 2, 0],\n",
       "         [2, 1, 0, 1],\n",
       "         [2, 2, 2, 1]],\n",
       "\n",
       "        [[1, 0, 0, 0],\n",
       "         [1, 2, 2, 1],\n",
       "         [0, 2, 0, 0],\n",
       "         [2, 1, 2, 0],\n",
       "         [2, 2, 1, 0]],\n",
       "\n",
       "        [[1, 1, 2, 0],\n",
       "         [2, 1, 0, 0],\n",
       "         [2, 0, 2, 1],\n",
       "         [2, 0, 0, 0],\n",
       "         [1, 2, 1, 1]]]], dtype=int64)"
      ]
     },
     "execution_count": 632,
     "metadata": {},
     "output_type": "execute_result"
    }
   ],
   "source": [
    "# axis0 = 1d (row)\n",
    "# axis1 = 2d (cloumn)\n",
    "# axis2 = 3d ()\n",
    "# axisn = nd -1\n",
    "np.argmax(r, axis=4)"
   ]
  },
  {
   "cell_type": "code",
   "execution_count": null,
   "metadata": {},
   "outputs": [],
   "source": []
  },
  {
   "cell_type": "code",
   "execution_count": null,
   "metadata": {},
   "outputs": [],
   "source": []
  }
 ],
 "metadata": {
  "jupytext": {
   "encoding": "# -*- coding: utf-8 -*-",
   "formats": "ipynb,py:percent,md"
  },
  "kernelspec": {
   "display_name": "Python 3",
   "language": "python",
   "name": "python3"
  },
  "language_info": {
   "codemirror_mode": {
    "name": "ipython",
    "version": 3
   },
   "file_extension": ".py",
   "mimetype": "text/x-python",
   "name": "python",
   "nbconvert_exporter": "python",
   "pygments_lexer": "ipython3",
   "version": "3.8.2"
  }
 },
 "nbformat": 4,
 "nbformat_minor": 4
}
