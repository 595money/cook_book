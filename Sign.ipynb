{
 "cells": [
  {
   "cell_type": "code",
   "execution_count": 1,
   "metadata": {},
   "outputs": [
    {
     "data": {
      "text/html": [
       "<style>.container { width:80% !important; }</style>"
      ],
      "text/plain": [
       "<IPython.core.display.HTML object>"
      ]
     },
     "metadata": {},
     "output_type": "display_data"
    }
   ],
   "source": [
    "import pandas as pd\n",
    "import numpy as np\n",
    "from jupyterthemes import jtplot\n",
    "from IPython.core.display import display, HTML\n",
    "\n",
    "display(HTML(\"<style>.container { width:80% !important; }</style>\"))\n",
    "jtplot.style()"
   ]
  },
  {
   "cell_type": "markdown",
   "metadata": {},
   "source": [
    "# 概述\n",
    "* [LaTex mathematical symbols](\n",
    "https://oeis.org/wiki/List_of_LaTeX_mathematical_symbols)"
   ]
  },
  {
   "cell_type": "markdown",
   "metadata": {},
   "source": [
    "### 希臘字母\n",
    "Sign <img width=200/>|Code<img width=400/>|Discript\n",
    ":---|---|--\n",
    "$\\alpha$ |`$\\alpha$`|alpah\n",
    "$\\beta$ |`$\\beta$`|beta\n",
    "$\\gamma$ |`$\\gamma$`|gamma\n",
    "$\\Gamma$ |`$\\Gamma$`|Gamma\n",
    "$\\delta$|`$\\delta$`|delta\n",
    "$\\Delta$|`$\\Delta$`|Delta\n",
    "$\\epsilon$|`$\\epsilon$`|epsilon\n",
    "$\\varepsilon$|`$\\varepsilon$`|varepsilon\n",
    "$\\zeta$|`$\\zeta$`|zeta\n",
    "$\\eta$|`$\\eta$`|eta\n",
    "$\\theta$|`$\\theta$`|theta\n",
    "$\\Theta$|`$\\Theta$`|Theta\n",
    "$\\vartheta$|`$\\vartheta$`|vartheta\n",
    "$\\iota$|`$\\iota$`|iota\n",
    "$\\pi$|`$\\pi$`|pi\n",
    "$\\phi$|`$\\phi$`|phi\n",
    "$\\psi$|`$\\psi$`|psi\n",
    "$\\Psi$|`$\\Psi$`|Psi\n",
    "$\\omega$|`$\\omega$`|omega\n",
    "$\\Omega$|`$\\Omega$`|Omega\n",
    "$\\chi$|`$\\chi$`|chi\n",
    "$\\rho$|`$\\rho$`|rho\n",
    "$\\omicron$|`$\\omicron$`|omicron\n",
    "$\\sigma$|`$\\sigma$`|sigma\n",
    "$\\Sigma$|`$\\Sigma$`|Sigma\n",
    "$\\nu$|`$\\nu$`|nu\n",
    "$\\xi$|`$\\xi$`|xi\n",
    "$\\tau$|`$\\tau$`|tau\n",
    "$\\lambda$|`$\\lambda$`|lambda\n",
    "$\\Lambda$|`$\\$Lambda`|Lambda\n",
    "$\\mu$|`$\\mu$`|mu\n",
    "$\\partial$|`$\\partial$`|partial\n",
    "\n"
   ]
  },
  {
   "cell_type": "markdown",
   "metadata": {},
   "source": [
    "### 數學符號\n",
    "\n",
    " Sign <img width=200/>|Code<img width=400/>|Discript\n",
    ":---|---|--\n",
    "$\\sum$ |`$\\sum$`|求和公式\n",
    "$\\sum_{i=123}^n$|`$\\sum_{i=123}^n$` |求和上下標\n",
    "$y=\\begin{cases}x\\\\\\alpha\\end{cases}$|`$y=\\begin{cases}x\\\\\\alpha\\end{cases}$`|大括號\n",
    "$\\times$|`$\\times$`|乘號\n",
    "$\\div$|`$\\div$`|除號\n",
    "$\\mid$|`$\\mid$`|\n",
    "$\\pm$|`$\\pm$`|正負號\n",
    "$\\cdot$|`$\\cdot$`|點\n",
    "$\\circ$|`$\\circ$`|圈\n",
    "$\\ast$|`$\\ast$`|星號\n",
    "$\\bigotimes$|`$\\bigotimes$`|克羅內克積\n",
    "$\\leq$|`$\\leq$`|小於等於\n",
    "$\\geq$|`$\\geq$`|大於等於\n",
    "$\\neq$|`$\\neq$`|不等於\n",
    "$\\not>$|`$\\not>$`|不大於\n",
    "$\\approx$|`$\\approx$`|約等於\n",
    "$\\equiv$|`$\\equiv$`|約等於\n",
    "$\\prod$|`$\\prod$`|N元乘積\n",
    "$\\coprod$|`$\\coprod$`|N元餘積\n",
    "$\\cdots$|`$\\cdots$`|省略號\n",
    "$\\because$|`$\\because$`|因為\n",
    "$\\therefore$|`$\\therefore$`|所以\n",
    "$\\forall$|`$\\forall$`|任意\n",
    "$\\exists$|`$\\exists$`|存在\n",
    "9$\\frac{1}{2}$|`9$\\frac{1}{2}$`|分號\n",
    "1$^{999}$|`1$^{999}$`|次方\n",
    "\n",
    "\n",
    "\n",
    "\n",
    "\n",
    "\n",
    "\n",
    "\n",
    "\n",
    "\n",
    "\n"
   ]
  },
  {
   "cell_type": "markdown",
   "metadata": {},
   "source": [
    "### 對數符號\n",
    "Sign <img width=200/>|  Code<img width=400/>|Discript\n",
    ":---|---|--\n",
    "$\\log$|`$\\log$`|\n",
    "$\\lg$|`$\\lg$`|\n",
    "$\\ln$|`$\\ln$`|"
   ]
  },
  {
   "cell_type": "markdown",
   "metadata": {},
   "source": [
    "### 集合符號\n",
    "Sign <img width=200/>|  Code<img width=400/>|Discript\n",
    ":---|---|--\n",
    "$\\emptyset$|`$\\emptyset$`|空集合\n",
    "$\\in$|`$\\in$`|屬於\n",
    "$\\not\\subset$|`$\\notin$`|不屬於\n",
    "$\\subset$|`$\\subset$`|子集合\n",
    "$\\supset$|`$\\supset$`|子集合\n",
    "$\\subseteq$|`$\\subseteq$`|真集合\n",
    "$\\supseteq$|`$\\supseteq$`|真集合\n",
    "$\\bigcup$|`$\\bigcup$`|聯集\n",
    "$\\bigcap$|`$\\bigcap$`|交集\n",
    "＼|`\\`|差集\n",
    "$\\bigwedge$|`$\\bigwedge$`|邏輯與\n",
    "$\\bigvee$|`$\\bigvee$`|邏輯或\n",
    "$\\bigoplus$|`$\\bigoplus$`|互斥或\n",
    "$\\biguplus$|`$\\biguplus$`|多重集\n",
    "$\\bigsqcup$|`$\\bigsqcup$`|互斥聯集"
   ]
  },
  {
   "cell_type": "markdown",
   "metadata": {},
   "source": [
    "### 微積分\n",
    "Sign <img width=200/>|  Code<img width=400/>|Discript\n",
    ":---|---|--\n",
    "$\\prime$|`$\\prime$`|\n",
    "$\\int$|`$\\int$`|\n",
    "$\\iint$|`$\\iint$`|\n",
    "$\\iiint$|`$\\iiint$`|\n",
    "$\\iiiint$|`$\\iiiint$`|\n",
    "$\\oint$|`$\\oint$`|\n",
    "$\\lim$|`$\\lim$`|極限\n",
    "$\\infty$|`$\\infty$`|無窮\n",
    "$\\nabla$|`$\\nabla$`|梯度\n",
    "\n"
   ]
  },
  {
   "cell_type": "markdown",
   "metadata": {},
   "source": [
    "### 箭頭符號\n",
    "Sign <img width=200/>|  Code<img width=400/>|Discript\n",
    ":---|---|--\n",
    "$\\uparrow$|`$\\uparrow$`|\n",
    "$\\downarrow$|`$\\downarrow$`|\n",
    "$\\Uparrow$|`$\\Uparrow$`|\n",
    "$\\Downarrow$|`$\\Downarrow$`|\n",
    "$\\rightarrow$|`$\\rightarrow$`|\n",
    "$\\leftarrow$|`$\\leftarrow$`|\n",
    "$\\Rightarrow$|`$\\Rightarrow$`|\n",
    "$\\Leftarrow$|`$\\Leftarrow$`|\n",
    "$\\longrightarrow$|`$\\longrightarrow$`|\n",
    "$\\longleftarrow$|`$\\longleftarrow$`|\n",
    "$\\Longrightarrow$|`$\\Longrightarrow$`|\n",
    "$\\Longleftarrow$|`$\\Longleftarrow$`|\n",
    "\n",
    "\n",
    "\n",
    "\n",
    "\n",
    "\n"
   ]
  },
  {
   "cell_type": "markdown",
   "metadata": {},
   "source": [
    "### 三角運算\n",
    "Sign <img width=200/>|  Code<img width=400/>|Discript\n",
    ":---|---|--\n",
    "$\\bigtriangleup$|`$\\bigtriangleup$`|三角形\n",
    "$\\bigtriangledown$|`$\\bigtriangledown$`|倒三角形\n",
    "$\\bot$|`$\\bot$`|\n",
    "$\\angle$|`$\\angle$`|角度\n",
    "$\\measuredangle$|`$\\measuredangle$`|被測量的角度 \n",
    "30$^\\circ$|`30$^\\circ$`|角度表示\n",
    "$\\sin$|`$\\sin$`|\n",
    "$\\cos$|`$\\cos$`|\n",
    "$\\tan$|`$\\tan$`|\n",
    "$\\cot$|`$\\cot$`|\n",
    "$\\sec$|`$\\sec$`|\n",
    "$\\csc$|`$\\csc$`|\n",
    "\n",
    "\n",
    "\n"
   ]
  },
  {
   "cell_type": "markdown",
   "metadata": {},
   "source": [
    "### 連線符號\n",
    "Sign <img width=200/>|  Code<img width=400/>|Discript\n",
    ":---|---|--\n",
    "$\\overline{a b c d}$|`$\\overline{a b c d}$`|\n",
    "$\\underline{a b c d}$|`$\\underline{a b c d}$`|\n",
    "$\\overbrace{a \\underbrace{b c}_{1.0} d}^{2.0}$|`$\\overbrace{a \\underbrace{b c}_{1.0} d}^{2.0}$`|\n",
    "$X\\vec{x}_{\\vec{x}_{\\vec{x}}}$ $\\vec{a}\\vec{b}\\vec{m}\\vec{X}$|`$X\\vec{x}_{\\vec{x}_{\\vec{x}}}$ $\\vec{a}\\vec{b}\\vec{m}\\vec{X}$`|\n",
    "$\\overleftarrow{blahblahblah}$|`$\\overleftarrow{blahblahblah}$`|\n",
    "$\\overrightarrow{blahblahblah}$|`$\\overrightarrow{blahblahblah}$`|"
   ]
  },
  {
   "cell_type": "markdown",
   "metadata": {},
   "source": [
    "### 音符？\n",
    "Sign <img width=200/>|  Code<img width=400/>|Discript\n",
    ":---|---|--\n",
    "$\\hat{y}$|`$\\hat{y}$`|期望值\n",
    "$\\breve{y}$|`$\\breve{y}$`|短音符\n",
    "$\\check{y}$|`$\\check{y}$`|抑揚符"
   ]
  }
 ],
 "metadata": {
  "jupytext": {
   "formats": "ipynb,md,py:percent"
  },
  "kernelspec": {
   "display_name": "Python 3",
   "language": "python",
   "name": "python3"
  },
  "language_info": {
   "codemirror_mode": {
    "name": "ipython",
    "version": 3
   },
   "file_extension": ".py",
   "mimetype": "text/x-python",
   "name": "python",
   "nbconvert_exporter": "python",
   "pygments_lexer": "ipython3",
   "version": "3.8.2"
  }
 },
 "nbformat": 4,
 "nbformat_minor": 4
}
