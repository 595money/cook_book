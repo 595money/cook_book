{
 "cells": [
  {
   "cell_type": "markdown",
   "metadata": {},
   "source": [
    "# ${Regression}$\n",
    "---"
   ]
  },
  {
   "cell_type": "markdown",
   "metadata": {},
   "source": [
    "Pokemon  \n",
    "${y\\;=\\;經由model推算出來的結果}$  \n",
    "${b\\;=\\;bias}$  \n",
    "${w\\;=\\;weight}$  \n",
    "${X\\;=\\;經由\\;model\\;推算出來的結果}$  \n",
    "${X_{cp}\\;=\\;下標代表特徵\\;feature, 所以\\;cp\\;是\\;object\\;X\\;的特徵}$   \n",
    "${X_i\\;=\\;an\\;atrribute\\;of\\;inout\\;X\\;(X的所有feature)}$  \n",
    "${w_i\\;=\\;weight}$  \n",
    "${b_i\\;=\\;bias}$  \n",
    "${X^1\\;=\\;上標\\;^1數字代表\\;function\\;input\\;的編號}$  \n",
    "${\\hat{y}^1\\;=\\;上蓋\\;\\hat\\;代表\\;function\\;ouput\\;應該得到的,也就是\\;lebal、real\\;data}$\n",
    "![](../source/r_01.png)\n",
    "\n",
    "\n",
    "* Step 1:Model  \n",
    "${y\\;=\\;b\\;+\\;w\\;*\\;X_{cp}}$  \n",
    "* Step 2:Goodness of Function  \n",
    "${Loss\\;function\\;:\\;L}$\n",
    "${input\n",
    "output}$\n",
    "\n",
    "\n"
   ]
  }
 ],
 "metadata": {
  "jupytext": {
   "formats": "ipynb,py:percent,md"
  },
  "kernelspec": {
   "display_name": "Python 3",
   "language": "python",
   "name": "python3"
  },
  "language_info": {
   "codemirror_mode": {
    "name": "ipython",
    "version": 3
   },
   "file_extension": ".py",
   "mimetype": "text/x-python",
   "name": "python",
   "nbconvert_exporter": "python",
   "pygments_lexer": "ipython3",
   "version": "3.8.2"
  }
 },
 "nbformat": 4,
 "nbformat_minor": 4
}
