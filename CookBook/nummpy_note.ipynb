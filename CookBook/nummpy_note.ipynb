{
 "cells": [
  {
   "cell_type": "code",
   "execution_count": 218,
   "metadata": {
    "scrolled": true
   },
   "outputs": [
    {
     "data": {
      "text/html": [
       "<style>.container { width:70% !important; }</style>"
      ],
      "text/plain": [
       "<IPython.core.display.HTML object>"
      ]
     },
     "metadata": {},
     "output_type": "display_data"
    }
   ],
   "source": [
    "import numpy as np\n",
    "from jupyterthemes import jtplot\n",
    "from IPython.core.display import display, HTML\n",
    "\n",
    "display(HTML(\"<style>.container { width:70% !important; }</style>\"))\n",
    "jtplot.style()"
   ]
  },
  {
   "cell_type": "markdown",
   "metadata": {},
   "source": [
    "# NumPy CookBook"
   ]
  },
  {
   "cell_type": "markdown",
   "metadata": {},
   "source": [
    "![](../source/numpy-6-step-ml-framework-tools-numpy-highlight.png)<a name='ch_index'></a>"
   ]
  },
  {
   "cell_type": "markdown",
   "metadata": {},
   "source": [
    "* [Question](https://github.com/mrdbourke/zero-to-mastery-ml/blob/master/section-2-data-science-and-ml-tools/numpy-exercises.ipynb)  \n",
    "* [Answer](https://github.com/mrdbourke/zero-to-mastery-ml/blob/master/section-2-data-science-and-ml-tools/numpy-exercises-solutions.ipynb)"
   ]
  },
  {
   "cell_type": "markdown",
   "metadata": {},
   "source": [
    "#### Why NumPy?\n",
    "---\n",
    "* It's fast (C language)\n",
    "* Backbone of other Python scientific packages\n",
    "* Vectorization via broadcasting (avoiding loops)"
   ]
  },
  {
   "cell_type": "markdown",
   "metadata": {},
   "source": [
    "#### What are we going to cover?\n",
    "---\n",
    "* Most userful functions\n",
    "* NumPy datatypes & attributes (ndarray)\n",
    "* Creating arrays\n",
    "* Viewing arrays & matrices\n",
    "* Sorting arrays\n",
    "* Use cases"
   ]
  },
  {
   "cell_type": "markdown",
   "metadata": {},
   "source": [
    "[CH1. NumPy datatypes & attributes](#numpy_datatypes_attributes)<br/>\n",
    "[CH2. Creating arrays](#creating_arrays)<br/>\n",
    "[CH3. Viewing arrays & matrices](#viesing_arrays_matrices)<br/>\n",
    "[CH4. Manipulating & comparing arrays](#manipulating_comparing_arrays)<br/>\n",
    "[CH5. Sorting arrays](#sorting_arrays)<br/>\n",
    "[CH6. Use cases](#use_cases)<br/>\n",
    "[CH7. Diemensions and Axis](#diemension_and_axis)<br/>"
   ]
  },
  {
   "cell_type": "markdown",
   "metadata": {},
   "source": [
    "## NumPy datatypes & attributes<a name='numpy_datatypes_attributes'></a>\n",
    "---"
   ]
  },
  {
   "cell_type": "markdown",
   "metadata": {},
   "source": [
    "* Main datatype is ndarray In NumPy.\n",
    "* Operation some array, will work on another."
   ]
  },
  {
   "cell_type": "code",
   "execution_count": 219,
   "metadata": {},
   "outputs": [],
   "source": [
    "# 1-dimensonal array, also referred to as a vector\n",
    "a1 = np.array([1, 2, 3])\n",
    "\n",
    "# 2-dimensional array, also referred to as matrix\n",
    "a2 = np.array([[1, 2.0, 3.3],\n",
    "               [4, 5, 6.5]])\n",
    "\n",
    "# 3-dimensional array, also referred to as a matrix\n",
    "a3 = np.array([[[1, 2, 3],\n",
    "                [4, 5, 6],\n",
    "                [7, 8, 9]],\n",
    "                [[10, 11, 12],\n",
    "                 [13, 14, 15],\n",
    "                 [16, 17, 18]]])"
   ]
  },
  {
   "cell_type": "markdown",
   "metadata": {},
   "source": [
    "* Array - A list of numbers, can be multi-dimensional.\n",
    "* Scalar - A single number (e.g. 7).\n",
    "* Vector - A list of numbers with 1-dimesion (e.g. np.array([1, 2, 3])).\n",
    "* Matrix - A (usually) multi-deminsional list of numbers (e.g. np.array([[1, 2, 3], [4, 5, 6]])).<br/>\n",
    "[back_index](#ch_index)"
   ]
  },
  {
   "cell_type": "markdown",
   "metadata": {},
   "source": [
    "## Creating arrays <a name=\"creating_arrays\"></a>\n",
    "---"
   ]
  },
  {
   "cell_type": "markdown",
   "metadata": {},
   "source": [
    "* [np.array()](#np.array)\n",
    "* [np.ones()](#np.ones)\n",
    "* [np.zeros()](#np.zeros)\n",
    "* [np.arange()](#np.arange)\n",
    "* [np.random.rand(5, 3)](#np.random.rand)\n",
    "* [np.random.randint(10, size=5)](#np.random.randint)\n",
    "* [np.random.seed() - pseudo random numbers](#np.random.seed)\n",
    "* [Searching the documentation example (finding np.unique() and using it)](#np.unique)"
   ]
  },
  {
   "cell_type": "markdown",
   "metadata": {},
   "source": [
    "##### np.array()<a name=\"np.array\"></a>\n",
    "[see also](https://docs.scipy.org/doc/numpy/reference/generated/numpy.array.html)<br/>\n",
    "[back](#creating_arrays)"
   ]
  },
  {
   "cell_type": "code",
   "execution_count": 220,
   "metadata": {
    "scrolled": true
   },
   "outputs": [
    {
     "data": {
      "text/plain": [
       "array([1, 2, 3])"
      ]
     },
     "execution_count": 220,
     "metadata": {},
     "output_type": "execute_result"
    }
   ],
   "source": [
    "# Create a simple array\n",
    "simple_array = np.array([1, 2, 3])\n",
    "simple_array"
   ]
  },
  {
   "cell_type": "markdown",
   "metadata": {},
   "source": [
    "##### np.ones()<a name=\"np.ones\"></a>\n",
    "[see also](https://docs.scipy.org/doc/numpy/reference/generated/numpy.ones.html)<br/>\n",
    "[back](#creating_arrays)"
   ]
  },
  {
   "cell_type": "code",
   "execution_count": 221,
   "metadata": {
    "scrolled": true
   },
   "outputs": [
    {
     "data": {
      "text/plain": [
       "(array([[1., 1.],\n",
       "        [1., 1.],\n",
       "        [1., 1.],\n",
       "        [1., 1.],\n",
       "        [1., 1.],\n",
       "        [1., 1.],\n",
       "        [1., 1.],\n",
       "        [1., 1.],\n",
       "        [1., 1.],\n",
       "        [1., 1.]]),\n",
       " dtype('float64'))"
      ]
     },
     "execution_count": 221,
     "metadata": {},
     "output_type": "execute_result"
    }
   ],
   "source": [
    "# Create an array of ones\n",
    "ones = np.ones((10, 2))\n",
    "ones, ones.dtype"
   ]
  },
  {
   "cell_type": "code",
   "execution_count": 222,
   "metadata": {
    "scrolled": true
   },
   "outputs": [
    {
     "data": {
      "text/plain": [
       "(array([[1, 1],\n",
       "        [1, 1],\n",
       "        [1, 1],\n",
       "        [1, 1],\n",
       "        [1, 1],\n",
       "        [1, 1],\n",
       "        [1, 1],\n",
       "        [1, 1],\n",
       "        [1, 1],\n",
       "        [1, 1]]),\n",
       " dtype('int32'))"
      ]
     },
     "execution_count": 222,
     "metadata": {},
     "output_type": "execute_result"
    }
   ],
   "source": [
    "ones = ones.astype(int)\n",
    "ones, ones.dtype"
   ]
  },
  {
   "cell_type": "markdown",
   "metadata": {},
   "source": [
    "##### np.zeros()<a name=\"np.zeros\"></a>\n",
    "[see also](https://docs.scipy.org/doc/numpy/reference/generated/numpy.zeros.html)<br/>\n",
    "[back](#creating_arrays)"
   ]
  },
  {
   "cell_type": "code",
   "execution_count": 223,
   "metadata": {
    "scrolled": true
   },
   "outputs": [
    {
     "data": {
      "text/plain": [
       "array([[[0., 0., 0.],\n",
       "        [0., 0., 0.],\n",
       "        [0., 0., 0.]],\n",
       "\n",
       "       [[0., 0., 0.],\n",
       "        [0., 0., 0.],\n",
       "        [0., 0., 0.]],\n",
       "\n",
       "       [[0., 0., 0.],\n",
       "        [0., 0., 0.],\n",
       "        [0., 0., 0.]],\n",
       "\n",
       "       [[0., 0., 0.],\n",
       "        [0., 0., 0.],\n",
       "        [0., 0., 0.]],\n",
       "\n",
       "       [[0., 0., 0.],\n",
       "        [0., 0., 0.],\n",
       "        [0., 0., 0.]]])"
      ]
     },
     "execution_count": 223,
     "metadata": {},
     "output_type": "execute_result"
    }
   ],
   "source": [
    "# Create an array of zeros\n",
    "zeros = np.zeros((5, 3, 3))\n",
    "zeros"
   ]
  },
  {
   "cell_type": "markdown",
   "metadata": {},
   "source": [
    "##### np.arange()<a name=\"np.arange\"></a>\n",
    "[see also](https://docs.scipy.org/doc/numpy/reference/generated/numpy.arange.html)<br/>\n",
    "[back](#creating_arrays)"
   ]
  },
  {
   "cell_type": "code",
   "execution_count": 224,
   "metadata": {},
   "outputs": [
    {
     "data": {
      "text/plain": [
       "array([0, 2, 4, 6, 8])"
      ]
     },
     "execution_count": 224,
     "metadata": {},
     "output_type": "execute_result"
    }
   ],
   "source": [
    "# Create an array within a range of values\n",
    "range_array = np.arange(0, 10, 2)\n",
    "range_array"
   ]
  },
  {
   "cell_type": "markdown",
   "metadata": {},
   "source": [
    "##### np.random.rand()<a name=\"np.random.rand\"></a>\n",
    "[see also](https://docs.scipy.org/doc/numpy-1.15.1/reference/generated/numpy.random.randint.html)<br/>\n",
    "[back](#creating_arrays)"
   ]
  },
  {
   "cell_type": "code",
   "execution_count": 225,
   "metadata": {},
   "outputs": [
    {
     "data": {
      "text/plain": [
       "array([[0.01458075, 0.09336303, 0.82655425],\n",
       "       [0.83349274, 0.89241102, 0.9580135 ],\n",
       "       [0.56133712, 0.0905487 , 0.99598891],\n",
       "       [0.47740172, 0.68491561, 0.84337526],\n",
       "       [0.61612483, 0.56318751, 0.36816219]])"
      ]
     },
     "execution_count": 225,
     "metadata": {},
     "output_type": "execute_result"
    }
   ],
   "source": [
    "# Random 5x3 array of floats (between 0 & 1), similar to above\n",
    "np.random.random((5, 3))"
   ]
  },
  {
   "cell_type": "markdown",
   "metadata": {},
   "source": [
    "##### np.random.randint()<a name=\"np.random.randint\"></a>\n",
    "[see also](https://docs.scipy.org/doc/numpy-1.15.1/reference/generated/numpy.random.randint.html)<br/>\n",
    "[back](#creating_arrays)"
   ]
  },
  {
   "cell_type": "code",
   "execution_count": 226,
   "metadata": {},
   "outputs": [
    {
     "data": {
      "text/plain": [
       "array([[3, 1, 7],\n",
       "       [3, 1, 9],\n",
       "       [5, 7, 0],\n",
       "       [9, 6, 0],\n",
       "       [5, 2, 8]])"
      ]
     },
     "execution_count": 226,
     "metadata": {},
     "output_type": "execute_result"
    }
   ],
   "source": [
    "# Random array\n",
    "random_array = np.random.randint(10, size=(5, 3))\n",
    "random_array"
   ]
  },
  {
   "cell_type": "markdown",
   "metadata": {},
   "source": [
    "##### np.random.seed()<a name=\"np.random.seed\"></a>\n",
    "[see also](https://docs.scipy.org/doc/numpy-1.15.0/reference/generated/numpy.random.seed.html)<br/>\n",
    "[back](#creating_arrays)"
   ]
  },
  {
   "cell_type": "code",
   "execution_count": 227,
   "metadata": {},
   "outputs": [
    {
     "data": {
      "text/plain": [
       "array([[5, 0, 3],\n",
       "       [3, 7, 9],\n",
       "       [3, 5, 2],\n",
       "       [4, 7, 6],\n",
       "       [8, 8, 1]])"
      ]
     },
     "execution_count": 227,
     "metadata": {},
     "output_type": "execute_result"
    }
   ],
   "source": [
    "# Set random seed to 0\n",
    "np.random.seed(0)\n",
    "\n",
    "# Make 'random' numbers\n",
    "np.random.randint(10, size=(5, 3))"
   ]
  },
  {
   "cell_type": "markdown",
   "metadata": {},
   "source": [
    "##### np.unique()<a name=\"np.unique\"></a>\n",
    "[see also](https://docs.scipy.org/doc/numpy/reference/generated/numpy.unique.html)<br/>\n",
    "[back](#creating_arrays)"
   ]
  },
  {
   "cell_type": "code",
   "execution_count": 228,
   "metadata": {},
   "outputs": [
    {
     "data": {
      "text/plain": [
       "array([[3, 4, 0],\n",
       "       [1, 3, 0],\n",
       "       [0, 1, 4],\n",
       "       [4, 1, 2],\n",
       "       [4, 2, 4]])"
      ]
     },
     "execution_count": 228,
     "metadata": {},
     "output_type": "execute_result"
    }
   ],
   "source": [
    "np.random.seed(1)\n",
    "u1 = np.random.randint(5, size=(5, 3))\n",
    "u1"
   ]
  },
  {
   "cell_type": "code",
   "execution_count": 229,
   "metadata": {},
   "outputs": [
    {
     "data": {
      "text/plain": [
       "array([0, 1, 2, 3, 4])"
      ]
     },
     "execution_count": 229,
     "metadata": {},
     "output_type": "execute_result"
    }
   ],
   "source": [
    "# Searh unique value from array\n",
    "np.unique(u1)"
   ]
  },
  {
   "cell_type": "markdown",
   "metadata": {},
   "source": [
    "## Viewing arrays & matrices (indexing)<a name='viesing_arrays_matrices'></a>\n",
    "___\n",
    "* array and matrices are both ndarray, they can be viewed in similar ways.\n",
    "* NumPy arrays get printed from outside to inside. This means the number at the end of the shape comes first, and the number at the start of the shape comes last.<br/>\n",
    "[back_index](#ch_index)"
   ]
  },
  {
   "cell_type": "markdown",
   "metadata": {},
   "source": [
    "#### np.shape"
   ]
  },
  {
   "cell_type": "code",
   "execution_count": 245,
   "metadata": {
    "scrolled": false
   },
   "outputs": [
    {
     "data": {
      "text/plain": [
       "(2, 3, 4, 5)"
      ]
     },
     "execution_count": 245,
     "metadata": {},
     "output_type": "execute_result"
    }
   ],
   "source": [
    "a4 = np.random.randint(10, size=[2, 3, 4, 5])\n",
    "# shape (4d=2, 3d=3, 2d(column)=4, 1d(row)=5)\n",
    "# axis  (4d=0. 3d=1, 2d(column)=2, 1d(row)=3)\n",
    "a4.shape"
   ]
  },
  {
   "cell_type": "code",
   "execution_count": 231,
   "metadata": {},
   "outputs": [
    {
     "data": {
      "text/plain": [
       "array([[[[2, 4, 7, 7],\n",
       "         [1, 7, 0, 6],\n",
       "         [9, 7, 6, 9],\n",
       "         [0, 1, 8, 8]],\n",
       "\n",
       "        [[9, 8, 7, 3],\n",
       "         [5, 1, 9, 3],\n",
       "         [8, 1, 4, 0],\n",
       "         [9, 2, 0, 4]],\n",
       "\n",
       "        [[2, 7, 7, 9],\n",
       "         [6, 9, 3, 7],\n",
       "         [4, 5, 9, 3],\n",
       "         [8, 0, 2, 7]]],\n",
       "\n",
       "\n",
       "       [[[9, 7, 3, 0],\n",
       "         [7, 7, 1, 1],\n",
       "         [0, 8, 6, 4],\n",
       "         [6, 2, 5, 7]],\n",
       "\n",
       "        [[4, 4, 7, 7],\n",
       "         [9, 0, 2, 0],\n",
       "         [1, 7, 9, 8],\n",
       "         [0, 1, 9, 8]],\n",
       "\n",
       "        [[3, 1, 2, 7],\n",
       "         [6, 0, 9, 2],\n",
       "         [6, 2, 7, 7],\n",
       "         [6, 5, 1, 4]]]])"
      ]
     },
     "execution_count": 231,
     "metadata": {},
     "output_type": "execute_result"
    }
   ],
   "source": [
    "# Get only the first 4 numbers of each single vector\n",
    "a4[:, :, :, :4]"
   ]
  },
  {
   "cell_type": "markdown",
   "metadata": {},
   "source": [
    "#### np.axis <a name='np.axis'></a>\n",
    "[see np.argmax(ndarray, axis=)](https://docs.scipy.org/doc/numpy/reference/generated/numpy.argmax.html)<br/>\n",
    "[back](#numpy_datatypes_attributes)<br/>"
   ]
  },
  {
   "cell_type": "code",
   "execution_count": 232,
   "metadata": {},
   "outputs": [
    {
     "data": {
      "text/plain": [
       "array([3, 2, 1], dtype=int64)"
      ]
     },
     "execution_count": 232,
     "metadata": {},
     "output_type": "execute_result"
    }
   ],
   "source": [
    "np.argmax(random_array, axis=0)"
   ]
  },
  {
   "cell_type": "markdown",
   "metadata": {},
   "source": [
    "## Manipulating & comparing arrays <a name='manipulating_comparing_arrays'><a>\n",
    "___\n",
    "* Arithmetic\n",
    "  * +, -, *, /, //, **, %\n",
    "  * np.exp()\n",
    "  * np.log()\n",
    "  * Dot product - np.dot()\n",
    "  * Broadcasting\n",
    "* Aggregation\n",
    "  * np.sum() - faster than .sum(), make demo, np is really fast\n",
    "  * np.mean()\n",
    "  * np.std()\n",
    "  * np.var()\n",
    "  * np.min()\n",
    "  * np.max()\n",
    "  * np.argmin() - find index of minimum value\n",
    "  * np.argmax() - find index of maximum value\n",
    "  * These work on all ndarray's\n",
    "      * a4.min(axis=0) -- you can use axis as well\n",
    "* Reshaping\n",
    "  * np.reshape()\n",
    "* Transposing\n",
    "  * a3.T\n",
    "* Comparison operators\n",
    "  * \\>\n",
    "  * \\<  \n",
    "  * <=  \n",
    "  * \\>=  \n",
    "  * x != 3  \n",
    "  * X == 3  \n",
    "  * np.sum(x > 3)\n",
    "[back_index](#ch_index)"
   ]
  },
  {
   "cell_type": "markdown",
   "metadata": {},
   "source": [
    "## Sorting arrays <a name='sorting_arrays'><a>\n",
    "---\n",
    "* [np.sort()](#np.sort)\n",
    "* [np.argsort()](#np.argsort)\n",
    "* [np.argmax()](#np.argmax)\n",
    "* [np.argmin()](#np.argmin)  \n",
    "[back_index](#ch_index)"
   ]
  },
  {
   "cell_type": "markdown",
   "metadata": {},
   "source": [
    "##### np.sort()<a name=\"np.sort\"></a>\n",
    "[see also](https://docs.scipy.org/doc/numpy/reference/generated/numpy.sort.html)<br/>\n",
    "[back](#sorting_arrays)"
   ]
  },
  {
   "cell_type": "code",
   "execution_count": 233,
   "metadata": {
    "scrolled": false
   },
   "outputs": [
    {
     "data": {
      "text/plain": [
       "array([[3, 1, 7],\n",
       "       [3, 1, 9],\n",
       "       [5, 7, 0],\n",
       "       [9, 6, 0],\n",
       "       [5, 2, 8]])"
      ]
     },
     "execution_count": 233,
     "metadata": {},
     "output_type": "execute_result"
    }
   ],
   "source": [
    "random_array"
   ]
  },
  {
   "cell_type": "code",
   "execution_count": 234,
   "metadata": {
    "scrolled": true
   },
   "outputs": [
    {
     "data": {
      "text/plain": [
       "array([[1, 3, 7],\n",
       "       [1, 3, 9],\n",
       "       [0, 5, 7],\n",
       "       [0, 6, 9],\n",
       "       [2, 5, 8]])"
      ]
     },
     "execution_count": 234,
     "metadata": {},
     "output_type": "execute_result"
    }
   ],
   "source": [
    "np.sort(random_array)"
   ]
  },
  {
   "cell_type": "markdown",
   "metadata": {},
   "source": [
    "##### np.argsort()<a name=\"np.argsort\"></a>\n",
    "[see also](https://docs.scipy.org/doc/numpy/reference/generated/numpy.argsort.html)<br/>\n",
    "[back](#sorting_arrays)"
   ]
  },
  {
   "cell_type": "code",
   "execution_count": 235,
   "metadata": {
    "scrolled": false
   },
   "outputs": [
    {
     "data": {
      "text/plain": [
       "array([[[99, 78, 61, 16, 73],\n",
       "        [ 8, 62, 27, 30, 80],\n",
       "        [ 7, 76, 15, 53, 80]],\n",
       "\n",
       "       [[27, 44, 77, 75, 65],\n",
       "        [47, 30, 84, 86, 18],\n",
       "        [ 9, 41, 62,  1, 82]]])"
      ]
     },
     "execution_count": 235,
     "metadata": {},
     "output_type": "execute_result"
    }
   ],
   "source": [
    "np.random.seed(5)\n",
    "a1 = np.random.randint(100, size=[2, 3, 5])\n",
    "a1"
   ]
  },
  {
   "cell_type": "code",
   "execution_count": 236,
   "metadata": {},
   "outputs": [
    {
     "data": {
      "text/plain": [
       "array([[[3, 2, 4, 1, 0],\n",
       "        [0, 2, 3, 1, 4],\n",
       "        [0, 2, 3, 1, 4]],\n",
       "\n",
       "       [[0, 1, 4, 3, 2],\n",
       "        [4, 1, 0, 2, 3],\n",
       "        [3, 0, 1, 2, 4]]], dtype=int64)"
      ]
     },
     "execution_count": 236,
     "metadata": {},
     "output_type": "execute_result"
    }
   ],
   "source": [
    "# 回傳array 值由小到大排序後的index\n",
    "np.argsort(a1)"
   ]
  },
  {
   "cell_type": "markdown",
   "metadata": {},
   "source": [
    "##### np.argmax()<a name=\"np.argmax\"></a>\n",
    "[see also](https://docs.scipy.org/doc/numpy/reference/generated/numpy.argmax.html)<br/>\n",
    "[back](#sorting_arrays)"
   ]
  },
  {
   "cell_type": "markdown",
   "metadata": {},
   "source": [
    "## Use cases (examples of turning things into numbers)<a name='use_cases'></a>\n",
    "---\n",
    "* Turning an image of a panda into numbers.<br/>\n",
    "![](../source/panda.png)\n",
    "[back_index](#ch_index)"
   ]
  },
  {
   "cell_type": "code",
   "execution_count": 242,
   "metadata": {},
   "outputs": [
    {
     "name": "stdout",
     "output_type": "stream",
     "text": [
      "<class 'numpy.ndarray'>\n"
     ]
    }
   ],
   "source": [
    "from matplotlib.image import imread\n",
    "\n",
    "panda = imread('../source/panda.png')\n",
    "print(type(panda))"
   ]
  },
  {
   "cell_type": "code",
   "execution_count": 243,
   "metadata": {},
   "outputs": [
    {
     "data": {
      "text/plain": [
       "(2330, 3500, 3)"
      ]
     },
     "execution_count": 243,
     "metadata": {},
     "output_type": "execute_result"
    }
   ],
   "source": [
    "panda.shape"
   ]
  },
  {
   "cell_type": "code",
   "execution_count": 244,
   "metadata": {},
   "outputs": [
    {
     "data": {
      "text/plain": [
       "array([[[0.05490196, 0.10588235, 0.06666667],\n",
       "        [0.05490196, 0.10588235, 0.06666667],\n",
       "        [0.05490196, 0.10588235, 0.06666667],\n",
       "        ...,\n",
       "        [0.16470589, 0.12941177, 0.09411765],\n",
       "        [0.16470589, 0.12941177, 0.09411765],\n",
       "        [0.16470589, 0.12941177, 0.09411765]],\n",
       "\n",
       "       [[0.05490196, 0.10588235, 0.06666667],\n",
       "        [0.05490196, 0.10588235, 0.06666667],\n",
       "        [0.05490196, 0.10588235, 0.06666667],\n",
       "        ...,\n",
       "        [0.16470589, 0.12941177, 0.09411765],\n",
       "        [0.16470589, 0.12941177, 0.09411765],\n",
       "        [0.16470589, 0.12941177, 0.09411765]],\n",
       "\n",
       "       [[0.05490196, 0.10588235, 0.06666667],\n",
       "        [0.05490196, 0.10588235, 0.06666667],\n",
       "        [0.05490196, 0.10588235, 0.06666667],\n",
       "        ...,\n",
       "        [0.16470589, 0.12941177, 0.09411765],\n",
       "        [0.16470589, 0.12941177, 0.09411765],\n",
       "        [0.16470589, 0.12941177, 0.09411765]],\n",
       "\n",
       "       ...,\n",
       "\n",
       "       [[0.13333334, 0.07450981, 0.05490196],\n",
       "        [0.12156863, 0.0627451 , 0.04313726],\n",
       "        [0.10980392, 0.05098039, 0.03137255],\n",
       "        ...,\n",
       "        [0.02745098, 0.02745098, 0.03529412],\n",
       "        [0.02745098, 0.02745098, 0.03529412],\n",
       "        [0.02745098, 0.02745098, 0.03529412]],\n",
       "\n",
       "       [[0.13333334, 0.07450981, 0.05490196],\n",
       "        [0.12156863, 0.0627451 , 0.04313726],\n",
       "        [0.12156863, 0.0627451 , 0.04313726],\n",
       "        ...,\n",
       "        [0.02352941, 0.02352941, 0.03137255],\n",
       "        [0.02352941, 0.02352941, 0.03137255],\n",
       "        [0.02352941, 0.02352941, 0.03137255]],\n",
       "\n",
       "       [[0.13333334, 0.07450981, 0.05490196],\n",
       "        [0.12156863, 0.0627451 , 0.04313726],\n",
       "        [0.12156863, 0.0627451 , 0.04313726],\n",
       "        ...,\n",
       "        [0.02352941, 0.02352941, 0.03137255],\n",
       "        [0.02352941, 0.02352941, 0.03137255],\n",
       "        [0.02352941, 0.02352941, 0.03137255]]], dtype=float32)"
      ]
     },
     "execution_count": 244,
     "metadata": {},
     "output_type": "execute_result"
    }
   ],
   "source": [
    "panda"
   ]
  },
  {
   "cell_type": "markdown",
   "metadata": {},
   "source": [
    "## Diemensions and Axis <a name='diemension_and_axis'></a>\n",
    "![](../source/numpy-anatomy-of-a-numpy-array.png)\n",
    "[back_index](#ch_index)"
   ]
  },
  {
   "cell_type": "code",
   "execution_count": 267,
   "metadata": {},
   "outputs": [],
   "source": [
    "np.random.seed(100)\n",
    "d1 = np.random.randint(10, size=[5])\n",
    "d2 = np.random.randint(10, size=[4, 5])\n",
    "d3 = np.random.randint(10, size=[3, 4, 5])\n",
    "d4 = np.random.randint(10, size=[2, 3, 4, 5])"
   ]
  },
  {
   "cell_type": "code",
   "execution_count": 247,
   "metadata": {},
   "outputs": [
    {
     "data": {
      "text/plain": [
       "array([8, 8, 3, 7, 7])"
      ]
     },
     "execution_count": 247,
     "metadata": {},
     "output_type": "execute_result"
    }
   ],
   "source": [
    "# 1-d\n",
    "d1"
   ]
  },
  {
   "cell_type": "code",
   "execution_count": 253,
   "metadata": {
    "scrolled": true
   },
   "outputs": [
    {
     "name": "stdout",
     "output_type": "stream",
     "text": [
      "d1.size=(5,),di.dim=1\n"
     ]
    }
   ],
   "source": [
    "print(f'd1.size={d1.shape},di.dimension={d1.ndim}')"
   ]
  },
  {
   "cell_type": "code",
   "execution_count": 260,
   "metadata": {},
   "outputs": [
    {
     "data": {
      "text/plain": [
       "33"
      ]
     },
     "execution_count": 260,
     "metadata": {},
     "output_type": "execute_result"
    }
   ],
   "source": [
    "d1.sum(axis=0)"
   ]
  },
  {
   "cell_type": "code",
   "execution_count": 262,
   "metadata": {},
   "outputs": [
    {
     "data": {
      "text/plain": [
       "array([[0, 4, 2, 5, 2],\n",
       "       [2, 2, 1, 0, 8],\n",
       "       [4, 0, 9, 6, 2],\n",
       "       [4, 1, 5, 3, 4]])"
      ]
     },
     "execution_count": 262,
     "metadata": {},
     "output_type": "execute_result"
    }
   ],
   "source": [
    "# 2-d\n",
    "d2"
   ]
  },
  {
   "cell_type": "code",
   "execution_count": 254,
   "metadata": {},
   "outputs": [
    {
     "name": "stdout",
     "output_type": "stream",
     "text": [
      "d1.size=(4, 5),di.dimension=2\n"
     ]
    }
   ],
   "source": [
    "print(f'd1.size={d2.shape},di.dimension={d2.ndim}')"
   ]
  },
  {
   "cell_type": "code",
   "execution_count": 266,
   "metadata": {},
   "outputs": [
    {
     "data": {
      "text/plain": [
       "(array([13, 13, 21, 17]), array([10,  7, 17, 14, 16]))"
      ]
     },
     "execution_count": 266,
     "metadata": {},
     "output_type": "execute_result"
    }
   ],
   "source": [
    "# sim(axis=1)\n",
    "  \n",
    "d2.sum(axis=1), d2.sum(axis=0)"
   ]
  },
  {
   "cell_type": "code",
   "execution_count": 249,
   "metadata": {},
   "outputs": [
    {
     "data": {
      "text/plain": [
       "array([[[4, 3, 7, 1, 1],\n",
       "        [7, 7, 0, 2, 9],\n",
       "        [9, 3, 2, 5, 8],\n",
       "        [1, 0, 7, 6, 2]],\n",
       "\n",
       "       [[0, 8, 2, 5, 1],\n",
       "        [8, 1, 5, 4, 2],\n",
       "        [8, 3, 5, 0, 9],\n",
       "        [3, 6, 3, 4, 7]],\n",
       "\n",
       "       [[6, 3, 9, 0, 4],\n",
       "        [4, 5, 7, 6, 6],\n",
       "        [2, 4, 2, 7, 1],\n",
       "        [6, 6, 0, 7, 2]]])"
      ]
     },
     "execution_count": 249,
     "metadata": {},
     "output_type": "execute_result"
    }
   ],
   "source": [
    "# 3-d\n",
    "d3"
   ]
  },
  {
   "cell_type": "code",
   "execution_count": null,
   "metadata": {},
   "outputs": [],
   "source": [
    "print(f'd1.size={d3.shape},di.dimension={d3.ndim}')"
   ]
  },
  {
   "cell_type": "code",
   "execution_count": 268,
   "metadata": {},
   "outputs": [
    {
     "data": {
      "text/plain": [
       "array([[[[3, 5, 4, 2, 4],\n",
       "         [3, 7, 9, 0, 0],\n",
       "         [5, 9, 6, 6, 5],\n",
       "         [6, 4, 7, 3, 9]],\n",
       "\n",
       "        [[2, 3, 8, 7, 1],\n",
       "         [5, 9, 3, 0, 6],\n",
       "         [2, 3, 4, 8, 9],\n",
       "         [8, 5, 2, 7, 5]],\n",
       "\n",
       "        [[9, 0, 9, 8, 6],\n",
       "         [2, 0, 5, 3, 2],\n",
       "         [3, 6, 4, 1, 3],\n",
       "         [1, 4, 8, 8, 2]]],\n",
       "\n",
       "\n",
       "       [[[2, 7, 2, 1, 2],\n",
       "         [7, 1, 0, 5, 3],\n",
       "         [5, 2, 6, 1, 1],\n",
       "         [5, 9, 2, 5, 6]],\n",
       "\n",
       "        [[4, 6, 7, 9, 7],\n",
       "         [3, 0, 2, 5, 1],\n",
       "         [1, 0, 3, 6, 7],\n",
       "         [3, 6, 4, 8, 6]],\n",
       "\n",
       "        [[5, 0, 0, 5, 1],\n",
       "         [3, 2, 3, 1, 0],\n",
       "         [6, 5, 2, 0, 0],\n",
       "         [9, 1, 5, 2, 3]]]])"
      ]
     },
     "execution_count": 268,
     "metadata": {},
     "output_type": "execute_result"
    }
   ],
   "source": [
    "# 4-d\n",
    "d4"
   ]
  },
  {
   "cell_type": "code",
   "execution_count": 286,
   "metadata": {},
   "outputs": [
    {
     "data": {
      "text/plain": [
       "array([[[ 5, 12,  6,  3,  6],\n",
       "        [10,  8,  9,  5,  3],\n",
       "        [10, 11, 12,  7,  6],\n",
       "        [11, 13,  9,  8, 15]],\n",
       "\n",
       "       [[ 6,  9, 15, 16,  8],\n",
       "        [ 8,  9,  5,  5,  7],\n",
       "        [ 3,  3,  7, 14, 16],\n",
       "        [11, 11,  6, 15, 11]],\n",
       "\n",
       "       [[14,  0,  9, 13,  7],\n",
       "        [ 5,  2,  8,  4,  2],\n",
       "        [ 9, 11,  6,  1,  3],\n",
       "        [10,  5, 13, 10,  5]]])"
      ]
     },
     "execution_count": 286,
     "metadata": {},
     "output_type": "execute_result"
    }
   ],
   "source": [
    "d4.sum(axis=0)"
   ]
  },
  {
   "cell_type": "code",
   "execution_count": 288,
   "metadata": {},
   "outputs": [
    {
     "data": {
      "text/plain": [
       "1.5060973145850306e+35"
      ]
     },
     "execution_count": 288,
     "metadata": {},
     "output_type": "execute_result"
    }
   ],
   "source": [
    "np.exp(81)"
   ]
  }
 ],
 "metadata": {
  "jupytext": {
   "formats": "ipynb,md,py:percent"
  },
  "kernelspec": {
   "display_name": "Python 3",
   "language": "python",
   "name": "python3"
  },
  "language_info": {
   "codemirror_mode": {
    "name": "ipython",
    "version": 3
   },
   "file_extension": ".py",
   "mimetype": "text/x-python",
   "name": "python",
   "nbconvert_exporter": "python",
   "pygments_lexer": "ipython3",
   "version": "3.8.2"
  }
 },
 "nbformat": 4,
 "nbformat_minor": 4
}
