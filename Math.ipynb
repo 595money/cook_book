{
 "cells": [
  {
   "cell_type": "code",
   "execution_count": 10,
   "metadata": {},
   "outputs": [
    {
     "data": {
      "text/html": [
       "<style>.container { width:80% !important; }</style>"
      ],
      "text/plain": [
       "<IPython.core.display.HTML object>"
      ]
     },
     "metadata": {},
     "output_type": "display_data"
    }
   ],
   "source": [
    "import pandas as pd\n",
    "import numpy as np\n",
    "from jupyterthemes import jtplot\n",
    "from IPython.core.display import display, HTML\n",
    "\n",
    "display(HTML(\"<style>.container { width:80% !important; }</style>\"))\n",
    "jtplot.style()"
   ]
  },
  {
   "cell_type": "markdown",
   "metadata": {},
   "source": [
    "# Math"
   ]
  },
  {
   "cell_type": "markdown",
   "metadata": {},
   "source": [
    "## 名詞解釋\n",
    "純量 scalar  \n",
    "* Distance, speed, time, temperature, mass, length, area, volume, density, charge, pressure, energy,   \n",
    "  work and power are all scalars.\n",
    "* 不具方向性, 只有大小 ( magnitude / size ): 3.044, -7, 1$\\frac{1}{2}$\n",
    "* 通常使用細體: A, b  \n",
    "\n",
    "向量vactor \n",
    "* Displacement, velocity, acceleration, force and momentum are all vectors.\n",
    "* 具方向性、大小,\n",
    "* 通常使用粗體: **A**, **b**\n",
    "* $\\overrightarrow{AB}$"
   ]
  },
  {
   "cell_type": "markdown",
   "metadata": {},
   "source": [
    "### 三角學\n",
    "![](./source/math_01_01.png)||\n",
    "--- | ---\n",
    "  \n",
    "* `opp` = 對邊 (opposite)<br/>\n",
    "* `hyp` = 斜邊 (hypotenuse)<br/>\n",
    "* `adj` = 臨邊 (adjacent)<br/>\n",
    "* `銳角` = $\\angle$0$^\\circ$ ~ $\\angle$90$^\\circ$<br/>   \n",
    "* $\\bigtriangleup$ABC與$\\bigtriangleup$DEF即使角度相同, 且已知$\\bigtriangleup$ABC部份邊長<br/> \n",
    "仍不能套用三角形函數來推算$\\bigtriangleup$DEF的邊長\n",
    "\n",
    "### 銳角三角形口訣: soh、cah、toa<br/> \n",
    "##### 三角函數 Trigonometric functions <br/>\n",
    "\n",
    "* 多用來求邊長<br/>\n",
    "* Parameters: 內角角度<br/>\n",
    "* Return: 比值, 內角與兩邊長(opp、adj、hyo擇二)的比值關係<br/>\n",
    "* Note: 回傳值(邊長比值)可與已知邊長推導出未知邊長<br/>\n",
    "\n",
    "`正弦`<br/>\n",
    "$\\sin$($\\angle$A) = $\\frac{opp}{hyp}$<br/>\n",
    "$\\sin$($\\angle$A) = $\\cos$($\\angle$B)<br/>\n",
    "`餘弦`<br/>\n",
    "$\\cos$($\\angle$A) = $\\frac{adj}{hyp}$<br/>\n",
    "$\\cos$($\\angle$A) = $\\sin$($\\angle$B)<br/> \n",
    "`正切`<br/> \n",
    "$\\tan$($\\angle$A) = $\\frac{opp}{adj}$<br/>\n",
    "\n",
    "##### 反三角函數 Inverse trigonometric functions<br/>\n",
    "\n",
    "* 多用來求角度<br/>\n",
    "* Parameters: 比值, 內角與兩邊長(opp、adj、hyo擇二)的比值<br/>\n",
    "* Return: 內角角度<br/>\n",
    "* Note: <br/>\n",
    "\n",
    "`正弦` <br/> \n",
    "$\\sin$$^{-1}$($\\angle$A) = $\\frac{opp}{hyp}$<br/> \n",
    "$\\angle$A = $\\sin$$^{-1}$($\\frac{opp}{hyp}$)<br/>\n",
    "$\\angle$A = $\\sin$$^{-1}$($\\frac{BC}{AB}$)<br/>\n",
    "\n",
    "`餘弦`<br/> \n",
    "$\\cos$$^{-1}$($\\angle$A) = $\\frac{adj}{hyp}$<br/> \n",
    "$\\angle$A = $\\cos$$^{-1}$($\\frac{adj}{hyp}$)<br/>\n",
    "$\\angle$A = $\\cos$$^{-1}$($\\frac{AC}{AB}$)<br/>\n",
    "`正切`<br/> \n",
    "$\\tan$$^{-1}$($\\angle$A) = $\\frac{opp}{adj}$<br/> \n",
    "$\\angle$A = $\\tan$$^{-1}$($\\frac{opp}{adj}$)<br/>\n",
    "$\\angle$A = $\\tan$$^{-1}$($\\frac{BC}{AC}$)<br/>\n",
    "\n",
    "##### 正弦定理<br/>\n",
    "![](./source/math_01_04.png)||\n",
    "--- | ---  \n",
    "[正弦定理](https://zh.wikipedia.org/wiki/%E6%AD%A3%E5%BC%A6%E5%AE%9A%E7%90%86)  <br/>\n",
    "\n",
    "##### 餘弦定理<br/>\n",
    "* 當知道三角形的兩邊和一角時，餘弦定理可被用來計算第三邊的長，或是當知道三邊的長度時，可用來求出任何一個角。\n",
    "\n",
    "[餘弦定理](https://zh.wikipedia.org/wiki/%E9%A4%98%E5%BC%A6%E5%AE%9A%E7%90%86)  <br/>\n",
    "##### 直角三角形角度互補關係<br/>\n",
    "![](./source/math_01_03.png)|![](./source/math_01_02.png)|\n",
    "--- | ---\n",
    "  \n",
    "\n"
   ]
  },
  {
   "cell_type": "code",
   "execution_count": 11,
   "metadata": {},
   "outputs": [],
   "source": [
    "high_var_array = np.array([1, 100, 200, 300, 4000, 5000])\n",
    "low_var_array = np.array([2, 4, 6, 8, 10])"
   ]
  },
  {
   "cell_type": "markdown",
   "metadata": {},
   "source": [
    "### 對數 Logarithm\n",
    "---\n",
    "\n",
    "[np.log()](https://docs.scipy.org/doc/numpy/reference/generated/numpy.log.html)\n"
   ]
  },
  {
   "cell_type": "markdown",
   "metadata": {},
   "source": [
    "### 平方根 Sqrt\n",
    "---\n",
    "[np.sqrt()](https://docs.scipy.org/doc/numpy/reference/generated/numpy.sqrt.html)"
   ]
  },
  {
   "cell_type": "markdown",
   "metadata": {},
   "source": [
    "### 算術平均數 Arithmetic mean\n",
    "---\n",
    "[np.mean()](https://docs.scipy.org/doc/numpy/reference/generated/numpy.mean.html)"
   ]
  },
  {
   "cell_type": "code",
   "execution_count": 12,
   "metadata": {},
   "outputs": [
    {
     "data": {
      "text/plain": [
       "(1600.1666666666667, 6.0)"
      ]
     },
     "execution_count": 12,
     "metadata": {},
     "output_type": "execute_result"
    }
   ],
   "source": [
    "# Demo of std \n",
    "np.mean(high_var_array), np.mean(low_var_array)"
   ]
  },
  {
   "cell_type": "markdown",
   "metadata": {},
   "source": [
    "### 方差/變異數 Variance\n",
    "---\n",
    "[np.var()](https://docs.scipy.org/doc/numpy/reference/generated/numpy.var.html)  \n",
    "Variance = measure of the average degree to which each number is difference to mean  \n",
    "Higher variance = wider range of numbers  \n",
    "Lower variance = lower range of numbers  "
   ]
  },
  {
   "cell_type": "code",
   "execution_count": 13,
   "metadata": {},
   "outputs": [
    {
     "data": {
      "text/plain": [
       "(4296133.472222221, 8.0)"
      ]
     },
     "execution_count": 13,
     "metadata": {},
     "output_type": "execute_result"
    }
   ],
   "source": [
    "# Demo of var\n",
    "np.var(high_var_array), np.var(low_var_array)"
   ]
  },
  {
   "cell_type": "markdown",
   "metadata": {},
   "source": [
    "\n",
    "\n",
    "### 標準差Standard Deviation\n",
    "[np.std()](https://docs.scipy.org/doc/numpy/reference/generated/numpy.std.html)\n",
    "     \n",
    "---\n",
    "Strandard deviation = squareroot of variance  \n",
    "var = std ** 0.5  \n",
    "\n",
    "Standard deviation = a measure of how sparead out a group of numbers is from the mean"
   ]
  },
  {
   "cell_type": "code",
   "execution_count": 14,
   "metadata": {
    "scrolled": true
   },
   "outputs": [
    {
     "data": {
      "text/plain": [
       "(2072.711623024829, 2.8284271247461903)"
      ]
     },
     "execution_count": 14,
     "metadata": {},
     "output_type": "execute_result"
    }
   ],
   "source": [
    "# Demo of std \n",
    "np.std(high_var_array), np.std(low_var_array)"
   ]
  },
  {
   "cell_type": "markdown",
   "metadata": {},
   "source": [
    "### 內積 Dot Product"
   ]
  },
  {
   "cell_type": "markdown",
   "metadata": {},
   "source": [
    "### Element Wise"
   ]
  }
 ],
 "metadata": {
  "jupytext": {
   "encoding": "# -*- coding: utf-8 -*-",
   "formats": "ipynb,py:percent,md"
  },
  "kernelspec": {
   "display_name": "Python 3",
   "language": "python",
   "name": "python3"
  },
  "language_info": {
   "codemirror_mode": {
    "name": "ipython",
    "version": 3
   },
   "file_extension": ".py",
   "mimetype": "text/x-python",
   "name": "python",
   "nbconvert_exporter": "python",
   "pygments_lexer": "ipython3",
   "version": "3.8.2"
  }
 },
 "nbformat": 4,
 "nbformat_minor": 4
}
